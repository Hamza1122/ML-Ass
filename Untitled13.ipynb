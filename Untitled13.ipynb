{
  "nbformat": 4,
  "nbformat_minor": 0,
  "metadata": {
    "colab": {
      "name": "Untitled13.ipynb",
      "provenance": [],
      "collapsed_sections": [],
      "authorship_tag": "ABX9TyOuz2SaWhx8lpD1ZWEMNMjQ",
      "include_colab_link": true
    },
    "kernelspec": {
      "name": "python3",
      "display_name": "Python 3"
    }
  },
  "cells": [
    {
      "cell_type": "markdown",
      "metadata": {
        "id": "view-in-github",
        "colab_type": "text"
      },
      "source": [
        "<a href=\"https://colab.research.google.com/github/Hamza1122/ML-Ass/blob/master/Untitled13.ipynb\" target=\"_parent\"><img src=\"https://colab.research.google.com/assets/colab-badge.svg\" alt=\"Open In Colab\"/></a>"
      ]
    },
    {
      "cell_type": "code",
      "metadata": {
        "id": "d0ag2X1hw3c1",
        "colab_type": "code",
        "colab": {
          "base_uri": "https://localhost:8080/",
          "height": 70
        },
        "outputId": "85dd804b-1bc7-49fa-deb7-490246ea0277"
      },
      "source": [
        "#importing libraries\n",
        "import pandas as pd\n",
        "import numpy as np\n",
        "import seaborn as sns\n",
        "import matplotlib.pyplot as plt\n",
        "from sklearn import tree\n",
        "from sklearn import preprocessing \n",
        "from sklearn import svm\n",
        "from sklearn.preprocessing import MinMaxScaler\n",
        "from sklearn.naive_bayes import GaussianNB\n",
        "from sklearn.metrics import accuracy_score\n",
        "from sklearn.ensemble import RandomForestClassifier\n",
        "from sklearn.model_selection import train_test_split\n",
        "#Comparison of algorthm and neural network using keras,tesorflow remaining\n",
        "from sklearn import model_selection\n",
        "from sklearn.linear_model import LogisticRegression\n",
        "from sklearn.svm import SVC\n",
        "from sklearn.neighbors import KNeighborsClassifier\n",
        "from sklearn.tree import DecisionTreeClassifier\n",
        "from sklearn.naive_bayes import GaussianNB\n",
        "from sklearn.discriminant_analysis import LinearDiscriminantAnalysis\n",
        "from sklearn.ensemble import RandomForestClassifier\n",
        "from sklearn.neural_network import MLPClassifier\n",
        "\n"
      ],
      "execution_count": 1,
      "outputs": [
        {
          "output_type": "stream",
          "text": [
            "/usr/local/lib/python3.6/dist-packages/statsmodels/tools/_testing.py:19: FutureWarning: pandas.util.testing is deprecated. Use the functions in the public API at pandas.testing instead.\n",
            "  import pandas.util.testing as tm\n"
          ],
          "name": "stderr"
        }
      ]
    },
    {
      "cell_type": "code",
      "metadata": {
        "id": "HvYqGRQxx2IK",
        "colab_type": "code",
        "colab": {
          "base_uri": "https://localhost:8080/",
          "height": 472
        },
        "outputId": "b918eb4e-f4e6-4064-9f9d-ecb8b510b2e4"
      },
      "source": [
        "#reading dataset and assigning the column names\n",
        "header_names=['ID','Gender','Age', 'cobalt', 'chromium', 'appointments','appointments_1','Hip_replacement','Surgey_Undertaken','Unnamed :0']\n",
        "df=pd.read_excel('Project Data.xls',header=None,skiprows=1,names=header_names)\n",
        "df"
      ],
      "execution_count": 2,
      "outputs": [
        {
          "output_type": "execute_result",
          "data": {
            "text/html": [
              "<div>\n",
              "<style scoped>\n",
              "    .dataframe tbody tr th:only-of-type {\n",
              "        vertical-align: middle;\n",
              "    }\n",
              "\n",
              "    .dataframe tbody tr th {\n",
              "        vertical-align: top;\n",
              "    }\n",
              "\n",
              "    .dataframe thead th {\n",
              "        text-align: right;\n",
              "    }\n",
              "</style>\n",
              "<table border=\"1\" class=\"dataframe\">\n",
              "  <thead>\n",
              "    <tr style=\"text-align: right;\">\n",
              "      <th></th>\n",
              "      <th>ID</th>\n",
              "      <th>Gender</th>\n",
              "      <th>Age</th>\n",
              "      <th>cobalt</th>\n",
              "      <th>chromium</th>\n",
              "      <th>appointments</th>\n",
              "      <th>appointments_1</th>\n",
              "      <th>Hip_replacement</th>\n",
              "      <th>Surgey_Undertaken</th>\n",
              "      <th>Unnamed :0</th>\n",
              "    </tr>\n",
              "  </thead>\n",
              "  <tbody>\n",
              "    <tr>\n",
              "      <th>0</th>\n",
              "      <td>1</td>\n",
              "      <td>Female</td>\n",
              "      <td>66.0</td>\n",
              "      <td>74</td>\n",
              "      <td>91</td>\n",
              "      <td>01.07.2017</td>\n",
              "      <td>20.07.2017</td>\n",
              "      <td>RBHR</td>\n",
              "      <td>No</td>\n",
              "      <td>NaN</td>\n",
              "    </tr>\n",
              "    <tr>\n",
              "      <th>1</th>\n",
              "      <td>2</td>\n",
              "      <td>Female</td>\n",
              "      <td>71.0</td>\n",
              "      <td>111</td>\n",
              "      <td>91</td>\n",
              "      <td>04.08.2018</td>\n",
              "      <td>08.08.2018</td>\n",
              "      <td>RBHR</td>\n",
              "      <td>No</td>\n",
              "      <td>NaN</td>\n",
              "    </tr>\n",
              "    <tr>\n",
              "      <th>2</th>\n",
              "      <td>3</td>\n",
              "      <td>Female</td>\n",
              "      <td>29.0</td>\n",
              "      <td>119</td>\n",
              "      <td>129</td>\n",
              "      <td>07.12.2019</td>\n",
              "      <td>11.12.2019</td>\n",
              "      <td>RBHR</td>\n",
              "      <td>No</td>\n",
              "      <td>NaN</td>\n",
              "    </tr>\n",
              "    <tr>\n",
              "      <th>3</th>\n",
              "      <td>4</td>\n",
              "      <td>Male</td>\n",
              "      <td>40.0</td>\n",
              "      <td>86</td>\n",
              "      <td>32</td>\n",
              "      <td>27.12.2013</td>\n",
              "      <td>14.01.2014</td>\n",
              "      <td>RTHR</td>\n",
              "      <td>No</td>\n",
              "      <td>NaN</td>\n",
              "    </tr>\n",
              "    <tr>\n",
              "      <th>4</th>\n",
              "      <td>5</td>\n",
              "      <td>Male</td>\n",
              "      <td>87.0</td>\n",
              "      <td>105</td>\n",
              "      <td>58</td>\n",
              "      <td>05.01.2015</td>\n",
              "      <td>15.01.2015</td>\n",
              "      <td>RTHR</td>\n",
              "      <td>No</td>\n",
              "      <td>NaN</td>\n",
              "    </tr>\n",
              "    <tr>\n",
              "      <th>...</th>\n",
              "      <td>...</td>\n",
              "      <td>...</td>\n",
              "      <td>...</td>\n",
              "      <td>...</td>\n",
              "      <td>...</td>\n",
              "      <td>...</td>\n",
              "      <td>...</td>\n",
              "      <td>...</td>\n",
              "      <td>...</td>\n",
              "      <td>...</td>\n",
              "    </tr>\n",
              "    <tr>\n",
              "      <th>12231</th>\n",
              "      <td>12232</td>\n",
              "      <td>Female</td>\n",
              "      <td>NaN</td>\n",
              "      <td>27</td>\n",
              "      <td>50</td>\n",
              "      <td>29.09.2014</td>\n",
              "      <td>07.10.2014</td>\n",
              "      <td>RBHR</td>\n",
              "      <td>Pseudotumour</td>\n",
              "      <td>NaN</td>\n",
              "    </tr>\n",
              "    <tr>\n",
              "      <th>12232</th>\n",
              "      <td>12233</td>\n",
              "      <td>Female</td>\n",
              "      <td>NaN</td>\n",
              "      <td>34</td>\n",
              "      <td>61</td>\n",
              "      <td>29.11.2013</td>\n",
              "      <td>06.12.2013</td>\n",
              "      <td>Other Resurfacings</td>\n",
              "      <td>No</td>\n",
              "      <td>NaN</td>\n",
              "    </tr>\n",
              "    <tr>\n",
              "      <th>12233</th>\n",
              "      <td>12234</td>\n",
              "      <td>Female</td>\n",
              "      <td>NaN</td>\n",
              "      <td>49</td>\n",
              "      <td>28</td>\n",
              "      <td>20.07.2012</td>\n",
              "      <td>02.08.2012</td>\n",
              "      <td>Bi Lat BHR</td>\n",
              "      <td>Yes</td>\n",
              "      <td>NaN</td>\n",
              "    </tr>\n",
              "    <tr>\n",
              "      <th>12234</th>\n",
              "      <td>12235</td>\n",
              "      <td>Female</td>\n",
              "      <td>NaN</td>\n",
              "      <td>88</td>\n",
              "      <td>99</td>\n",
              "      <td>12.06.2013</td>\n",
              "      <td>27.06.2013</td>\n",
              "      <td>RTHR</td>\n",
              "      <td>Yes</td>\n",
              "      <td>NaN</td>\n",
              "    </tr>\n",
              "    <tr>\n",
              "      <th>12235</th>\n",
              "      <td>12236</td>\n",
              "      <td>Female</td>\n",
              "      <td>NaN</td>\n",
              "      <td>30</td>\n",
              "      <td>44</td>\n",
              "      <td>23.07.2012</td>\n",
              "      <td>02.08.2012</td>\n",
              "      <td>Other Resurfacings</td>\n",
              "      <td>Yes</td>\n",
              "      <td>NaN</td>\n",
              "    </tr>\n",
              "  </tbody>\n",
              "</table>\n",
              "<p>12236 rows × 10 columns</p>\n",
              "</div>"
            ],
            "text/plain": [
              "          ID  Gender   Age  ...     Hip_replacement Surgey_Undertaken Unnamed :0\n",
              "0          1  Female  66.0  ...                RBHR                No        NaN\n",
              "1          2  Female  71.0  ...                RBHR                No        NaN\n",
              "2          3  Female  29.0  ...                RBHR                No        NaN\n",
              "3          4    Male  40.0  ...                RTHR                No        NaN\n",
              "4          5    Male  87.0  ...                RTHR                No        NaN\n",
              "...      ...     ...   ...  ...                 ...               ...        ...\n",
              "12231  12232  Female   NaN  ...                RBHR      Pseudotumour        NaN\n",
              "12232  12233  Female   NaN  ...  Other Resurfacings                No        NaN\n",
              "12233  12234  Female   NaN  ...          Bi Lat BHR               Yes        NaN\n",
              "12234  12235  Female   NaN  ...                RTHR               Yes        NaN\n",
              "12235  12236  Female   NaN  ...  Other Resurfacings               Yes        NaN\n",
              "\n",
              "[12236 rows x 10 columns]"
            ]
          },
          "metadata": {
            "tags": []
          },
          "execution_count": 2
        }
      ]
    },
    {
      "cell_type": "code",
      "metadata": {
        "id": "2hZMpIVPyAvb",
        "colab_type": "code",
        "colab": {
          "base_uri": "https://localhost:8080/",
          "height": 360
        },
        "outputId": "e6f03ea5-6ffd-43f8-c58a-3f1dbfd8a631"
      },
      "source": [
        "#dropping the unncessary column and display the 10 rows of a dataset\n",
        "df=df.drop(['Unnamed :0','ID'],axis=1)\n",
        "df.head(10)"
      ],
      "execution_count": 3,
      "outputs": [
        {
          "output_type": "execute_result",
          "data": {
            "text/html": [
              "<div>\n",
              "<style scoped>\n",
              "    .dataframe tbody tr th:only-of-type {\n",
              "        vertical-align: middle;\n",
              "    }\n",
              "\n",
              "    .dataframe tbody tr th {\n",
              "        vertical-align: top;\n",
              "    }\n",
              "\n",
              "    .dataframe thead th {\n",
              "        text-align: right;\n",
              "    }\n",
              "</style>\n",
              "<table border=\"1\" class=\"dataframe\">\n",
              "  <thead>\n",
              "    <tr style=\"text-align: right;\">\n",
              "      <th></th>\n",
              "      <th>Gender</th>\n",
              "      <th>Age</th>\n",
              "      <th>cobalt</th>\n",
              "      <th>chromium</th>\n",
              "      <th>appointments</th>\n",
              "      <th>appointments_1</th>\n",
              "      <th>Hip_replacement</th>\n",
              "      <th>Surgey_Undertaken</th>\n",
              "    </tr>\n",
              "  </thead>\n",
              "  <tbody>\n",
              "    <tr>\n",
              "      <th>0</th>\n",
              "      <td>Female</td>\n",
              "      <td>66.0</td>\n",
              "      <td>74</td>\n",
              "      <td>91</td>\n",
              "      <td>01.07.2017</td>\n",
              "      <td>20.07.2017</td>\n",
              "      <td>RBHR</td>\n",
              "      <td>No</td>\n",
              "    </tr>\n",
              "    <tr>\n",
              "      <th>1</th>\n",
              "      <td>Female</td>\n",
              "      <td>71.0</td>\n",
              "      <td>111</td>\n",
              "      <td>91</td>\n",
              "      <td>04.08.2018</td>\n",
              "      <td>08.08.2018</td>\n",
              "      <td>RBHR</td>\n",
              "      <td>No</td>\n",
              "    </tr>\n",
              "    <tr>\n",
              "      <th>2</th>\n",
              "      <td>Female</td>\n",
              "      <td>29.0</td>\n",
              "      <td>119</td>\n",
              "      <td>129</td>\n",
              "      <td>07.12.2019</td>\n",
              "      <td>11.12.2019</td>\n",
              "      <td>RBHR</td>\n",
              "      <td>No</td>\n",
              "    </tr>\n",
              "    <tr>\n",
              "      <th>3</th>\n",
              "      <td>Male</td>\n",
              "      <td>40.0</td>\n",
              "      <td>86</td>\n",
              "      <td>32</td>\n",
              "      <td>27.12.2013</td>\n",
              "      <td>14.01.2014</td>\n",
              "      <td>RTHR</td>\n",
              "      <td>No</td>\n",
              "    </tr>\n",
              "    <tr>\n",
              "      <th>4</th>\n",
              "      <td>Male</td>\n",
              "      <td>87.0</td>\n",
              "      <td>105</td>\n",
              "      <td>58</td>\n",
              "      <td>05.01.2015</td>\n",
              "      <td>15.01.2015</td>\n",
              "      <td>RTHR</td>\n",
              "      <td>No</td>\n",
              "    </tr>\n",
              "    <tr>\n",
              "      <th>5</th>\n",
              "      <td>Male</td>\n",
              "      <td>58.0</td>\n",
              "      <td>116</td>\n",
              "      <td>28</td>\n",
              "      <td>28.08.2012 04.09.2012</td>\n",
              "      <td>RTHR Syn Mod</td>\n",
              "      <td>Other Resurfacings</td>\n",
              "      <td>No</td>\n",
              "    </tr>\n",
              "    <tr>\n",
              "      <th>6</th>\n",
              "      <td>Female</td>\n",
              "      <td>74.0</td>\n",
              "      <td>16</td>\n",
              "      <td>39</td>\n",
              "      <td>05.08.2016</td>\n",
              "      <td>10.08.2016</td>\n",
              "      <td>Bi Lat BHR</td>\n",
              "      <td>No</td>\n",
              "    </tr>\n",
              "    <tr>\n",
              "      <th>7</th>\n",
              "      <td>Female</td>\n",
              "      <td>58.0</td>\n",
              "      <td>19</td>\n",
              "      <td>62</td>\n",
              "      <td>07.08.2017</td>\n",
              "      <td>14.08.2017</td>\n",
              "      <td>Bi Lat BHR</td>\n",
              "      <td>ARMD</td>\n",
              "    </tr>\n",
              "    <tr>\n",
              "      <th>8</th>\n",
              "      <td>Female</td>\n",
              "      <td>78.0</td>\n",
              "      <td>26</td>\n",
              "      <td>110</td>\n",
              "      <td>06.08.2018</td>\n",
              "      <td>20.08.2018</td>\n",
              "      <td>Bi Lat BHR</td>\n",
              "      <td>No</td>\n",
              "    </tr>\n",
              "    <tr>\n",
              "      <th>9</th>\n",
              "      <td>Female</td>\n",
              "      <td>71.0</td>\n",
              "      <td>21</td>\n",
              "      <td>70</td>\n",
              "      <td>22.08.2014</td>\n",
              "      <td>29.08.2014</td>\n",
              "      <td>Bi Lat BHR</td>\n",
              "      <td>No</td>\n",
              "    </tr>\n",
              "  </tbody>\n",
              "</table>\n",
              "</div>"
            ],
            "text/plain": [
              "   Gender   Age cobalt  ... appointments_1     Hip_replacement Surgey_Undertaken\n",
              "0  Female  66.0     74  ...     20.07.2017                RBHR                No\n",
              "1  Female  71.0    111  ...     08.08.2018                RBHR                No\n",
              "2  Female  29.0    119  ...     11.12.2019                RBHR                No\n",
              "3    Male  40.0     86  ...     14.01.2014                RTHR                No\n",
              "4    Male  87.0    105  ...     15.01.2015                RTHR                No\n",
              "5    Male  58.0    116  ...   RTHR Syn Mod  Other Resurfacings                No\n",
              "6  Female  74.0     16  ...     10.08.2016          Bi Lat BHR                No\n",
              "7  Female  58.0     19  ...     14.08.2017          Bi Lat BHR              ARMD\n",
              "8  Female  78.0     26  ...     20.08.2018          Bi Lat BHR                No\n",
              "9  Female  71.0     21  ...     29.08.2014          Bi Lat BHR                No\n",
              "\n",
              "[10 rows x 8 columns]"
            ]
          },
          "metadata": {
            "tags": []
          },
          "execution_count": 3
        }
      ]
    },
    {
      "cell_type": "code",
      "metadata": {
        "id": "k6NSEtOcyFfW",
        "colab_type": "code",
        "colab": {
          "base_uri": "https://localhost:8080/",
          "height": 284
        },
        "outputId": "e4555665-e7ff-4785-c07e-d358f1bbf6a6"
      },
      "source": [
        "#summary of numeric features like mean,max and mix\n",
        "df.describe()\n"
      ],
      "execution_count": 4,
      "outputs": [
        {
          "output_type": "execute_result",
          "data": {
            "text/html": [
              "<div>\n",
              "<style scoped>\n",
              "    .dataframe tbody tr th:only-of-type {\n",
              "        vertical-align: middle;\n",
              "    }\n",
              "\n",
              "    .dataframe tbody tr th {\n",
              "        vertical-align: top;\n",
              "    }\n",
              "\n",
              "    .dataframe thead th {\n",
              "        text-align: right;\n",
              "    }\n",
              "</style>\n",
              "<table border=\"1\" class=\"dataframe\">\n",
              "  <thead>\n",
              "    <tr style=\"text-align: right;\">\n",
              "      <th></th>\n",
              "      <th>Age</th>\n",
              "    </tr>\n",
              "  </thead>\n",
              "  <tbody>\n",
              "    <tr>\n",
              "      <th>count</th>\n",
              "      <td>12091.000000</td>\n",
              "    </tr>\n",
              "    <tr>\n",
              "      <th>mean</th>\n",
              "      <td>67.839219</td>\n",
              "    </tr>\n",
              "    <tr>\n",
              "      <th>std</th>\n",
              "      <td>14.817052</td>\n",
              "    </tr>\n",
              "    <tr>\n",
              "      <th>min</th>\n",
              "      <td>-926.000000</td>\n",
              "    </tr>\n",
              "    <tr>\n",
              "      <th>25%</th>\n",
              "      <td>61.000000</td>\n",
              "    </tr>\n",
              "    <tr>\n",
              "      <th>50%</th>\n",
              "      <td>70.000000</td>\n",
              "    </tr>\n",
              "    <tr>\n",
              "      <th>75%</th>\n",
              "      <td>76.000000</td>\n",
              "    </tr>\n",
              "    <tr>\n",
              "      <th>max</th>\n",
              "      <td>114.000000</td>\n",
              "    </tr>\n",
              "  </tbody>\n",
              "</table>\n",
              "</div>"
            ],
            "text/plain": [
              "                Age\n",
              "count  12091.000000\n",
              "mean      67.839219\n",
              "std       14.817052\n",
              "min     -926.000000\n",
              "25%       61.000000\n",
              "50%       70.000000\n",
              "75%       76.000000\n",
              "max      114.000000"
            ]
          },
          "metadata": {
            "tags": []
          },
          "execution_count": 4
        }
      ]
    },
    {
      "cell_type": "code",
      "metadata": {
        "id": "Jn8WtFthyS31",
        "colab_type": "code",
        "colab": {
          "base_uri": "https://localhost:8080/",
          "height": 50
        },
        "outputId": "bb64eaa4-4d53-433e-f1af-85dda126ca59"
      },
      "source": [
        "#datatype of each column in a dataset\n",
        "df.dtypes\n",
        "df.Hip_replacement.unique()"
      ],
      "execution_count": 5,
      "outputs": [
        {
          "output_type": "execute_result",
          "data": {
            "text/plain": [
              "array(['RBHR', 'RTHR', 'Other Resurfacings', 'Bi Lat BHR', 'LTHR', 'LBHR',\n",
              "       'BHR', 'MOM THR'], dtype=object)"
            ]
          },
          "metadata": {
            "tags": []
          },
          "execution_count": 5
        }
      ]
    },
    {
      "cell_type": "code",
      "metadata": {
        "id": "RHQhn06dylMw",
        "colab_type": "code",
        "colab": {
          "base_uri": "https://localhost:8080/",
          "height": 334
        },
        "outputId": "141f794a-68a6-4711-e02d-a4b6e62234b8"
      },
      "source": [
        "#Number of male and female in a dataset\n",
        "#Number of gender are displayed below using both numbers and graph\n",
        "fig_dims = (3,4)\n",
        "fig, ax = plt.subplots(figsize=fig_dims)\n",
        "df['Gender']=df['Gender'].replace('Unknown','Male')\n",
        "df['Hip_replacement']=df['Hip_replacement'].replace({'Other Resurfacings':'surfacing','Bi Lat BHR':'Lat','MOM THR':'THR'})\n",
        "df.Gender.value_counts()\n",
        "sns.set(style=\"darkgrid\")\n",
        "ax = sns.countplot(x=\"Gender\",data=df,ax=ax)\n",
        "df.Gender.value_counts()"
      ],
      "execution_count": 6,
      "outputs": [
        {
          "output_type": "execute_result",
          "data": {
            "text/plain": [
              "Female    6691\n",
              "Male      5545\n",
              "Name: Gender, dtype: int64"
            ]
          },
          "metadata": {
            "tags": []
          },
          "execution_count": 6
        },
        {
          "output_type": "display_data",
          "data": {
            "image/png": "[encoded data removed]",
            "text/plain": [
              "<Figure size 216x288 with 1 Axes>"
            ]
          },
          "metadata": {
            "tags": [],
            "needs_background": "light"
          }
        }
      ]
    },
    {
      "cell_type": "code",
      "metadata": {
        "id": "oV6oLYSg1Ppl",
        "colab_type": "code",
        "colab": {
          "base_uri": "https://localhost:8080/",
          "height": 532
        },
        "outputId": "a12105a6-5827-410d-b127-87500e6c24a2"
      },
      "source": [
        "#how many case were no ,yes amrmd and pseudotumour are displayed below using graph\n",
        "fig_dims = (5,7)\n",
        "fig, ax = plt.subplots(figsize=fig_dims)\n",
        "df['Surgey_Undertaken']=df['Surgey_Undertaken'].str.lower()\n",
        "sns.set(style=\"darkgrid\")\n",
        "ax = sns.countplot(x=\"Surgey_Undertaken\",data=df,ax=ax)\n",
        "df.Surgey_Undertaken.value_counts()"
      ],
      "execution_count": 7,
      "outputs": [
        {
          "output_type": "execute_result",
          "data": {
            "text/plain": [
              "no              8198\n",
              "pseudotumour    1844\n",
              "yes             1165\n",
              "armd            1029\n",
              "Name: Surgey_Undertaken, dtype: int64"
            ]
          },
          "metadata": {
            "tags": []
          },
          "execution_count": 7
        },
        {
          "output_type": "display_data",
          "data": {
            "image/png": "[encoded data removed]",
            "text/plain": [
              "<Figure size 360x504 with 1 Axes>"
            ]
          },
          "metadata": {
            "tags": []
          }
        }
      ]
    },
    {
      "cell_type": "code",
      "metadata": {
        "id": "VF5FGVcEzLzx",
        "colab_type": "code",
        "colab": {
          "base_uri": "https://localhost:8080/",
          "height": 436
        },
        "outputId": "0ef91b59-338c-459c-8cfe-b14d7bd7f779"
      },
      "source": [
        "#Hip replacement\n",
        "fig_dims = (10,4)\n",
        "fig, ax = plt.subplots(figsize=fig_dims)\n",
        "df['Hip_replacement']=df['Hip_replacement'].str.lower()\n",
        "sns.set(style=\"darkgrid\")\n",
        "ax = sns.countplot(x=\"Hip_replacement\",ax=ax,data=df)\n",
        "df.Hip_replacement.value_counts()"
      ],
      "execution_count": 8,
      "outputs": [
        {
          "output_type": "execute_result",
          "data": {
            "text/plain": [
              "lat          2537\n",
              "rthr         2120\n",
              "surfacing    2097\n",
              "rbhr         2041\n",
              "lthr         1752\n",
              "lbhr         1641\n",
              "thr            41\n",
              "bhr             7\n",
              "Name: Hip_replacement, dtype: int64"
            ]
          },
          "metadata": {
            "tags": []
          },
          "execution_count": 8
        },
        {
          "output_type": "display_data",
          "data": {
            "image/png": "[encoded data removed]",
            "text/plain": [
              "<Figure size 720x288 with 1 Axes>"
            ]
          },
          "metadata": {
            "tags": []
          }
        }
      ]
    },
    {
      "cell_type": "code",
      "metadata": {
        "id": "nX0nck7O1k6p",
        "colab_type": "code",
        "colab": {
          "base_uri": "https://localhost:8080/",
          "height": 168
        },
        "outputId": "1a3c9734-2b61-43a4-80e3-8eee95b14e13"
      },
      "source": [
        "#As there were some Age values which were less than zero so we replace them with median\n",
        "df[df.Age<0]=df['Age'].median()\n",
        "df=df.dropna()\n",
        "df.Age = df.Age.astype(int)   #changing the datatype of a column\n",
        "df.dtypes"
      ],
      "execution_count": 9,
      "outputs": [
        {
          "output_type": "execute_result",
          "data": {
            "text/plain": [
              "Gender               object\n",
              "Age                   int64\n",
              "cobalt               object\n",
              "chromium             object\n",
              "appointments         object\n",
              "appointments_1       object\n",
              "Hip_replacement      object\n",
              "Surgey_Undertaken    object\n",
              "dtype: object"
            ]
          },
          "metadata": {
            "tags": []
          },
          "execution_count": 9
        }
      ]
    },
    {
      "cell_type": "code",
      "metadata": {
        "id": "ICsvif06-cNS",
        "colab_type": "code",
        "colab": {}
      },
      "source": [
        "df['Surgey_Undertaken_armd']=df['Surgey_Undertaken']\n",
        "df['Surgey_Undertaken_yes']=df['Surgey_Undertaken']\n",
        "df['Surgey_Undertaken_no']=df['Surgey_Undertaken']\n",
        "df['Surgey_Undertaken_ps']=df['Surgey_Undertaken']\n",
        "df['Gender']=df['Gender'].replace(70.0,'Male')\n",
        "df['Hip_replacement']=df['Hip_replacement'].replace(70.0,'lbhr')\n",
        "\n",
        "df['Surgey_Undertaken']=df['Surgey_Undertaken'].replace(70.0,'no')\n"
      ],
      "execution_count": 10,
      "outputs": []
    },
    {
      "cell_type": "code",
      "metadata": {
        "id": "mfY2vUkI-qa4",
        "colab_type": "code",
        "colab": {
          "base_uri": "https://localhost:8080/",
          "height": 302
        },
        "outputId": "07822f2c-4e82-4931-a8c4-3d705cd276d5"
      },
      "source": [
        "fig_dims = (10,4)\n",
        "fig, ax = plt.subplots(figsize=fig_dims)\n",
        "sns.stripplot(x ='Hip_replacement', y ='Age', data = df,  \n",
        "              jitter = True, hue ='Gender', dodge = True,ax=ax)"
      ],
      "execution_count": 11,
      "outputs": [
        {
          "output_type": "execute_result",
          "data": {
            "text/plain": [
              "<matplotlib.axes._subplots.AxesSubplot at 0x7f23a46c6940>"
            ]
          },
          "metadata": {
            "tags": []
          },
          "execution_count": 11
        },
        {
          "output_type": "display_data",
          "data": {
            "image/png": "[encoded data removed]",
            "text/plain": [
              "<Figure size 720x288 with 1 Axes>"
            ]
          },
          "metadata": {
            "tags": []
          }
        }
      ]
    },
    {
      "cell_type": "code",
      "metadata": {
        "id": "1cKQgo6Sod0W",
        "colab_type": "code",
        "colab": {
          "base_uri": "https://localhost:8080/",
          "height": 302
        },
        "outputId": "1dbfded3-0912-43d6-adae-e602d97e3132"
      },
      "source": [
        "fig_dims = (10,4)\n",
        "fig, ax = plt.subplots(figsize=fig_dims)\n",
        "sns.stripplot(x ='Surgey_Undertaken', y ='Age', data = df,  \n",
        "              jitter = True, hue ='Gender', dodge = True)"
      ],
      "execution_count": 12,
      "outputs": [
        {
          "output_type": "execute_result",
          "data": {
            "text/plain": [
              "<matplotlib.axes._subplots.AxesSubplot at 0x7f23a4bd7518>"
            ]
          },
          "metadata": {
            "tags": []
          },
          "execution_count": 12
        },
        {
          "output_type": "display_data",
          "data": {
            "image/png": "[encoded data removed]",
            "text/plain": [
              "<Figure size 720x288 with 1 Axes>"
            ]
          },
          "metadata": {
            "tags": []
          }
        }
      ]
    },
    {
      "cell_type": "code",
      "metadata": {
        "id": "VQ5tiMRe1rCi",
        "colab_type": "code",
        "colab": {
          "base_uri": "https://localhost:8080/",
          "height": 84
        },
        "outputId": "8063224b-b89c-40c7-ee7f-b436f3a9c9b9"
      },
      "source": [
        "#No of armd cases mean with respect gender and age\n",
        "df['Surgey_Undertaken_armd'] = df['Surgey_Undertaken_armd'].mask(df['Surgey_Undertaken_armd'].ne('armd'))\n",
        "print(df.groupby([\"Surgey_Undertaken_armd\",\"Gender\"])[\"Age\"].count())   #female were affected and male in armd"
      ],
      "execution_count": 13,
      "outputs": [
        {
          "output_type": "stream",
          "text": [
            "Surgey_Undertaken_armd  Gender\n",
            "armd                    Female    630\n",
            "                        Male      389\n",
            "Name: Age, dtype: int64\n"
          ],
          "name": "stdout"
        }
      ]
    },
    {
      "cell_type": "code",
      "metadata": {
        "id": "a1rUa7sR1Hhl",
        "colab_type": "code",
        "colab": {
          "base_uri": "https://localhost:8080/",
          "height": 314
        },
        "outputId": "67cda771-6204-4046-a511-c1c3091fc36c"
      },
      "source": [
        "#No of armd cases mean with respect gender and age\n",
        "fig_dims = (5,3)\n",
        "fig, ax = plt.subplots(figsize=fig_dims)\n",
        "df['Surgey_Undertaken_armd'] = df['Surgey_Undertaken_armd'].mask(df['Surgey_Undertaken_armd'].ne('armd'))\n",
        "temp=df.groupby([\"Surgey_Undertaken_armd\",\"Gender\"])[\"Age\"].count()\n",
        "print(temp)   #female were affected and male in armd\n",
        "temp.plot(kind ='bar' , title ='Surgrey Undertaken label as Armd', color=\"salmon\",alpha=0.75, rot=0,ax=ax)\n",
        "\n",
        "plt.xlabel('Gender')\n",
        "plt.ylabel('Cases')\n",
        "plt.show()"
      ],
      "execution_count": 14,
      "outputs": [
        {
          "output_type": "stream",
          "text": [
            "Surgey_Undertaken_armd  Gender\n",
            "armd                    Female    630\n",
            "                        Male      389\n",
            "Name: Age, dtype: int64\n"
          ],
          "name": "stdout"
        },
        {
          "output_type": "display_data",
          "data": {
            "image/png": "[encoded data removed]",
            "text/plain": [
              "<Figure size 360x216 with 1 Axes>"
            ]
          },
          "metadata": {
            "tags": []
          }
        }
      ]
    },
    {
      "cell_type": "code",
      "metadata": {
        "id": "BZGywDfC3G2n",
        "colab_type": "code",
        "colab": {
          "base_uri": "https://localhost:8080/",
          "height": 314
        },
        "outputId": "7b45176c-2487-410e-c409-bb8fff881ce5"
      },
      "source": [
        "#No of \"No\" cases mean with respect gender and age\n",
        "fig_dims = (5,3)\n",
        "fig, ax = plt.subplots(figsize=fig_dims)\n",
        "df['Surgey_Undertaken_no'] = df['Surgey_Undertaken_no'].mask(df['Surgey_Undertaken_no'].ne('no'))\n",
        "temp=df.groupby([\"Surgey_Undertaken_no\",\"Gender\"])[\"Age\"].count()#female were affected and male in armd\n",
        "print(temp)\n",
        "temp.plot(kind ='bar' , title ='Surgrey Undertaken Label As No',color=\"chocolate\",alpha=0.75, rot=0,ax=ax)\n",
        "plt.xlabel('Gender')\n",
        "plt.ylabel('Cases')\n",
        "plt.show()"
      ],
      "execution_count": 15,
      "outputs": [
        {
          "output_type": "stream",
          "text": [
            "Surgey_Undertaken_no  Gender\n",
            "no                    Female    4118\n",
            "                      Male      3726\n",
            "Name: Age, dtype: int64\n"
          ],
          "name": "stdout"
        },
        {
          "output_type": "display_data",
          "data": {
            "image/png": "[encoded data removed]",
            "text/plain": [
              "<Figure size 360x216 with 1 Axes>"
            ]
          },
          "metadata": {
            "tags": []
          }
        }
      ]
    },
    {
      "cell_type": "code",
      "metadata": {
        "id": "ZaztE-IR3HHY",
        "colab_type": "code",
        "colab": {
          "base_uri": "https://localhost:8080/",
          "height": 314
        },
        "outputId": "16080b78-ff31-4945-9290-168da9a218a6"
      },
      "source": [
        "#No of \"Yes\" cases mean with respect gender and age\n",
        "fig_dims = (5,3)\n",
        "fig, ax = plt.subplots(figsize=fig_dims)\n",
        "df['Surgey_Undertaken_yes'] = df['Surgey_Undertaken_yes'].mask(df['Surgey_Undertaken_yes'].ne('yes'))\n",
        "temp=df.groupby([\"Surgey_Undertaken_yes\",\"Gender\"])[\"Age\"].count()  #female were affected and male in armd\n",
        "print(temp)\n",
        "temp.plot(kind ='bar' , title ='Surgrey Undertaken Label As Yes',color=\"mediumspringgreen\",alpha=0.75, rot=0,ax=ax)\n",
        "plt.xlabel('Gender')\n",
        "plt.ylabel('Cases')\n",
        "plt.show()"
      ],
      "execution_count": 16,
      "outputs": [
        {
          "output_type": "stream",
          "text": [
            "Surgey_Undertaken_yes  Gender\n",
            "yes                    Female    714\n",
            "                       Male      426\n",
            "Name: Age, dtype: int64\n"
          ],
          "name": "stdout"
        },
        {
          "output_type": "display_data",
          "data": {
            "image/png": "[encoded data removed]",
            "text/plain": [
              "<Figure size 360x216 with 1 Axes>"
            ]
          },
          "metadata": {
            "tags": []
          }
        }
      ]
    },
    {
      "cell_type": "code",
      "metadata": {
        "id": "fLeUcuAw3HW2",
        "colab_type": "code",
        "colab": {
          "base_uri": "https://localhost:8080/",
          "height": 314
        },
        "outputId": "41d73c5d-16ef-44ca-ad73-13cb3e0c64c8"
      },
      "source": [
        "#No of \"pseudotumour\" cases mean with respect gender and age\n",
        "fig_dims = (5,3)\n",
        "fig, ax = plt.subplots(figsize=fig_dims)\n",
        "df['Surgey_Undertaken_ps'] = df['Surgey_Undertaken_ps'].mask(df['Surgey_Undertaken_ps'].ne('pseudotumour'))\n",
        "temp=df.groupby([\"Surgey_Undertaken_ps\",\"Gender\"])[\"Age\"].count()   #female were affected and male in armd\n",
        "print(temp)\n",
        "temp.plot(kind ='bar' , title ='Surgrey Undertaken Label As Pseudotumour',color=\"darkviolet\",alpha=0.75, rot=0,ax=ax)\n",
        "plt.xlabel('Gender')\n",
        "plt.ylabel('Cases')\n",
        "plt.show()"
      ],
      "execution_count": 17,
      "outputs": [
        {
          "output_type": "stream",
          "text": [
            "Surgey_Undertaken_ps  Gender\n",
            "pseudotumour          Female    1018\n",
            "                      Male       773\n",
            "Name: Age, dtype: int64\n"
          ],
          "name": "stdout"
        },
        {
          "output_type": "display_data",
          "data": {
            "image/png": "[encoded data removed]",
            "text/plain": [
              "<Figure size 360x216 with 1 Axes>"
            ]
          },
          "metadata": {
            "tags": []
          }
        }
      ]
    },
    {
      "cell_type": "code",
      "metadata": {
        "id": "NpZHG9duz1Sb",
        "colab_type": "code",
        "colab": {
          "base_uri": "https://localhost:8080/",
          "height": 302
        },
        "outputId": "0d9419f9-ad61-4df1-f286-8a0e849de390"
      },
      "source": [
        "#temp=df.groupby([\"Surgey_Undertaken\",\"Gender\"])[\"Age\"].count().cumsum()  # surgrey taken count  with age and gender\n",
        "#print(temp)\n",
        "#g=df.groupby([\"Surgey_Undertaken\",\"Gender\"]).count().groupby(level=[1]).cumsum().unstack().plot(kind='bar',y='Age', stacked = True,alpha=0.75, rot=0)\n",
        "\n",
        "#sns.catplot(x='Surgey_Undertaken',y='Age',hue='Gender',kind='bar',data=df,aspect=2)\n",
        "sns.countplot(x=\"Surgey_Undertaken\", hue=\"Gender\", data=df)"
      ],
      "execution_count": 18,
      "outputs": [
        {
          "output_type": "execute_result",
          "data": {
            "text/plain": [
              "<matplotlib.axes._subplots.AxesSubplot at 0x7f23a4b07400>"
            ]
          },
          "metadata": {
            "tags": []
          },
          "execution_count": 18
        },
        {
          "output_type": "display_data",
          "data": {
            "image/png": "[encoded data removed]",
            "text/plain": [
              "<Figure size 432x288 with 1 Axes>"
            ]
          },
          "metadata": {
            "tags": []
          }
        }
      ]
    },
    {
      "cell_type": "code",
      "metadata": {
        "id": "5p8kXU6p5QdK",
        "colab_type": "code",
        "colab": {
          "base_uri": "https://localhost:8080/",
          "height": 941
        },
        "outputId": "208cde5d-e348-460f-acd1-b2e992d80710"
      },
      "source": [
        "#Before cleaning the dataset we are uniquely checking the values so that we can remove them\n",
        "df.cobalt.unique()"
      ],
      "execution_count": 19,
      "outputs": [
        {
          "output_type": "execute_result",
          "data": {
            "text/plain": [
              "array([74, 111, 119, 86, 105, 116, 16, 19, 26, 21, 38, '<10', 49, 29, 251,\n",
              "       258, 262, 208, 94, 366, 347, 293, 339, 260, 62, 44, 52, 43, 73, 50,\n",
              "       279, 205, 173, 184, 33, 24, 28, 20, 37, 23, 18, 64, 12, 57, 46, 77,\n",
              "       59, 58, 230, 135, 41, 13, 30, 25, 35, 17, 71, 56, 84, 15, 11, 130,\n",
              "       182, 202, 31, 124, 36, 53, 32, 42, 39, 34, 51, 47, 55, 70, 81, 633,\n",
              "       499, 1001, 14, 10, '<1', 22, 93, 164, 120, 110, 85, 109, 108, 45,\n",
              "       517, 1216, 758, 250, 201, 244, 211, 227, 194, 287, 392, 502, 503,\n",
              "       573, 275, 61, 226, 408, 513, 635, 112, 210, 266, 425, 1857, 782,\n",
              "       318, 68, 79, 96, 27, 48, 89, 63, 91, 138, 147, 288, 106, 157, 122,\n",
              "       204, 359, 552, 350, 95, 128, 87, 75, 103, 613, 532, 99, 292, 556,\n",
              "       291, 54, 80, 65, 76, 72, 40, 78, 66, 88, 344, 369, 134, 253, 98,\n",
              "       140, 142, 143, 133, 255, 190, 162, 139, 107, 83, 131, 176, 165,\n",
              "       170, 206, 82, 114, 218, 69, 121, 60, 67, 234, 284, 488, 504, 150,\n",
              "       179, 174, 163, 195, 373, 326, 375, 113, '08.01.2016', '>2000', 178,\n",
              "       137, 172, 189, 418, 118, 136, 126, 151, 192, 102, 97, 198, 144,\n",
              "       104, 166, 319, 158, 254, 321, 999, 2636, 117, 90, 148, 152, 249,\n",
              "       115, 125, 322, 282, 410, 145, 448, 794, 728, 214, 268, 278, 168,\n",
              "       '06.01.2016', 1222, 1409, 1233, 1674, 92, 100, 155, 830, 223, 1715,\n",
              "       466, 1302, 1607, 716, 1150, 153, 160, 203, 235, 246, 221, 364, 361,\n",
              "       310, 449, 469, 149, 307, 248, 188, 261, 232, 572, 726, 529, 801,\n",
              "       314, 304, '<10.0', 123, 259, 1379, 1263, 1210, 541, 526, 2296,\n",
              "       1492, 905, 181, '15.01.2016', 3152, 828, 2789, 597, 238, 101, 655,\n",
              "       183, 207, 159, 156, 197, 389, 404, 333, 403, 382, 187, 146, 379,\n",
              "       705, 132, 186, 505, 553, 602, '?', 698, 647, 665, 906, 2521, 689,\n",
              "       141, 242, 629, 388, 286, 462, 303, 171, 325, 209, 127, 215, 169,\n",
              "       229, 180, 273, 465, 2547, 2764, 302, 492, 199, 175, 272, 785, 129,\n",
              "       2384, 2621, 2735, 737, 659, 368, 374, 653, 416, 847, 879, 867, 177,\n",
              "       220, 489, '>680', 768, 793, 161, 263, 228, 193, 167, 306, 320, 285,\n",
              "       154, 1050, 334, 664, 519, 1274, 478, 296, 213, 219, 308, 486, 267,\n",
              "       329, 471, 300, 299, 222, 269, 245, 247, 212, 243, 909, 439, 1183,\n",
              "       '22.01.2016', 351, 452, 360, 237, 343, 390, 978, 280, 283, 394,\n",
              "       397, 1013, 191, 584, 742, 687, 1136, 1421, 814, 1243, 1571, 1852,\n",
              "       625, 396, 6, 185, 271, 240, 233, 231, 558, 378, 649, 444, 345, 381,\n",
              "       225, 332, 301, 621, 520, 699, 579, 622, 216, 265, 276, 1864, 281,\n",
              "       681, 1333, 2016, 1043, 256, '11.01.2016', 936, 1205, 409, 1045,\n",
              "       358, 540, 690, 252, 290, 356, 277, 472, 365, 551, 799, 428, 458,\n",
              "       257, '20.01.2016', 565, 236, 386, 407, 437, 518, 638, 200, 475, 8,\n",
              "       305, '29.01.2016', 336, 289, 348, 1634, 1624, 1464, 1461, 423,\n",
              "       1185, 780, 668, 1586, 1884, 2276, 2075, 2775, 1800, 648, 316, 295,\n",
              "       331, 1042, 508, 196, 239, 468, 738, 430, 414, 725, 1226, 1058, 241,\n",
              "       483, 395, 1251, 1495, 1755, 1991, 1875, 1744, 1952, 1883, 1070,\n",
              "       1354, 346, 264, 804, 704, 644, 863, 1213, 1860, 2286, 1909, 1995,\n",
              "       555, 569, 660, 401, 663, 880, 576, 376, 1089, 585, 567, 355, 311,\n",
              "       313, 645, 1071, 1300, 1942, 217, '13.01.2016', 399, 754, 907, 1095,\n",
              "       1619, 274, 574, 511, 224, 849, 1438, 1606, 524, 337, 424, 297, 384,\n",
              "       2103, 1002, 400, 1809, 1961, 581, 327, 391, 453, 352, 732, 435,\n",
              "       776, 887, 436, 473, 714, 431, 783, 786, 1016, 607, 747, 500, 821,\n",
              "       510, 7, 2074, 1602, 1849, 2234, 686, 652, 349, 353, 342, 778, 507,\n",
              "       1252, 1235, 1064, 9, 723, 764, 528, 559, 456, 362, 527, 447, 709,\n",
              "       536, 549, 1826, 467, 354, 763, 531, 596, 372, 457, 315, 837, 634,\n",
              "       772, 512, 485, 415, 736, 711, 1328, 773, 309, 762, 721, 816, 981,\n",
              "       680, 682, '18.01.2016', 312, 578, 748, 631, 1500, 1293, 371, 810,\n",
              "       1048, 484, 1359, 593, 338, 324, '28.01.2016', 357, 367, 899, 494,\n",
              "       884, 480, '04.01.2016', 429, 608, 950, 962, 921, 825, 959, 591,\n",
              "       604, 446, 441, 582, 1472, 1077, 594], dtype=object)"
            ]
          },
          "metadata": {
            "tags": []
          },
          "execution_count": 19
        }
      ]
    },
    {
      "cell_type": "code",
      "metadata": {
        "id": "RZFJAnw19sOC",
        "colab_type": "code",
        "colab": {}
      },
      "source": [
        "# We can't directly replace value with avg values in cobalt column because it has mixed data and object datatype .\n",
        "# First we are replacing them with some small initial value and after that we will find avg and will repalce those values \n",
        "\n",
        "#df['cobalt']=df['cobalt'].replace(to_replace=r'^>20.$', value='new', regex=True)\n",
        "df['cobalt']=df.cobalt.replace({'<10':0.10,'<1':1.1,'>2000':2.1,'<10.0':3.1,'?':1,'>680':4.1})\n",
        "df['cobalt']=df.cobalt.replace({'04.01.2016':0.1,'18.01.2016':0.2,'13.01.2016':0.3,\n",
        "                                '22.01.2016':0.4,'20.01.2016':0.5,\n",
        "                                '28.01.2016':0.6,'29.01.2016':0.7,\n",
        "                                '11.01.2016':0.8,'15.01.2016':0.9,\n",
        "                                '06.01.2016':0.99,'08.01.2016':0.001\n",
        "                               })\n",
        "df.cobalt = df.cobalt.astype(float)\n",
        "value=df.cobalt.mean()       #now we are calculating the mean\n",
        "\n",
        "\n"
      ],
      "execution_count": 20,
      "outputs": []
    },
    {
      "cell_type": "code",
      "metadata": {
        "id": "eR6xCGqqOD8W",
        "colab_type": "code",
        "colab": {}
      },
      "source": [
        "#After initializing with some small values we are replacing them with mean values\n",
        "\n",
        "df['cobalt']=df.cobalt.replace({0.1:value,0.2:value,0.3:value,0.4:value,0.5:value,0.6:value,0.7:value,\n",
        "                               0.8:value,0.9:value,0.99:value,\n",
        "                               0.001:value})\n",
        "\n",
        "\n",
        "df['cobalt']=df.cobalt.replace({0.10:np.random.randint(10,30),1.1:np.random.randint(1,2),\n",
        "                                2.1:np.random.randint(1,9),3.1:np.random.randint(1,15),\n",
        "                                4.1:np.random.randint(680,900)})\n"
      ],
      "execution_count": 21,
      "outputs": []
    },
    {
      "cell_type": "code",
      "metadata": {
        "id": "raUw8WCKn518",
        "colab_type": "code",
        "colab": {
          "base_uri": "https://localhost:8080/",
          "height": 1000
        },
        "outputId": "b6d9c59b-7a8c-4f43-a1b4-4907f0d9b8d8"
      },
      "source": [
        "df.cobalt.unique()      # Now all values have been replaced"
      ],
      "execution_count": 22,
      "outputs": [
        {
          "output_type": "execute_result",
          "data": {
            "text/plain": [
              "array([7.40000000e+01, 1.11000000e+02, 1.19000000e+02, 8.60000000e+01,\n",
              "       1.05000000e+02, 1.16000000e+02, 1.60000000e+01, 1.90000000e+01,\n",
              "       2.60000000e+01, 2.10000000e+01, 3.80000000e+01, 8.52168288e+01,\n",
              "       4.90000000e+01, 2.90000000e+01, 2.51000000e+02, 2.58000000e+02,\n",
              "       2.62000000e+02, 2.08000000e+02, 9.40000000e+01, 3.66000000e+02,\n",
              "       3.47000000e+02, 2.93000000e+02, 3.39000000e+02, 2.60000000e+02,\n",
              "       6.20000000e+01, 4.40000000e+01, 5.20000000e+01, 4.30000000e+01,\n",
              "       7.30000000e+01, 5.00000000e+01, 2.79000000e+02, 2.05000000e+02,\n",
              "       1.73000000e+02, 1.84000000e+02, 3.30000000e+01, 2.40000000e+01,\n",
              "       2.80000000e+01, 2.00000000e+01, 3.70000000e+01, 2.30000000e+01,\n",
              "       1.80000000e+01, 6.40000000e+01, 1.20000000e+01, 5.70000000e+01,\n",
              "       4.60000000e+01, 7.70000000e+01, 5.90000000e+01, 5.80000000e+01,\n",
              "       2.30000000e+02, 1.35000000e+02, 4.10000000e+01, 1.30000000e+01,\n",
              "       3.00000000e+01, 2.50000000e+01, 3.50000000e+01, 1.70000000e+01,\n",
              "       7.10000000e+01, 5.60000000e+01, 8.40000000e+01, 1.50000000e+01,\n",
              "       1.10000000e+01, 1.30000000e+02, 1.82000000e+02, 2.02000000e+02,\n",
              "       3.10000000e+01, 1.24000000e+02, 3.60000000e+01, 5.30000000e+01,\n",
              "       3.20000000e+01, 4.20000000e+01, 3.90000000e+01, 3.40000000e+01,\n",
              "       5.10000000e+01, 4.70000000e+01, 5.50000000e+01, 7.00000000e+01,\n",
              "       8.10000000e+01, 6.33000000e+02, 4.99000000e+02, 1.00100000e+03,\n",
              "       1.40000000e+01, 1.00000000e+01, 1.00000000e+00, 2.20000000e+01,\n",
              "       9.30000000e+01, 1.64000000e+02, 1.20000000e+02, 1.10000000e+02,\n",
              "       8.50000000e+01, 1.09000000e+02, 1.08000000e+02, 4.50000000e+01,\n",
              "       5.17000000e+02, 1.21600000e+03, 7.58000000e+02, 2.50000000e+02,\n",
              "       2.01000000e+02, 2.44000000e+02, 2.11000000e+02, 2.27000000e+02,\n",
              "       1.94000000e+02, 2.87000000e+02, 3.92000000e+02, 5.02000000e+02,\n",
              "       5.03000000e+02, 5.73000000e+02, 2.75000000e+02, 6.10000000e+01,\n",
              "       2.26000000e+02, 4.08000000e+02, 5.13000000e+02, 6.35000000e+02,\n",
              "       1.12000000e+02, 2.10000000e+02, 2.66000000e+02, 4.25000000e+02,\n",
              "       1.85700000e+03, 7.82000000e+02, 3.18000000e+02, 6.80000000e+01,\n",
              "       7.90000000e+01, 9.60000000e+01, 2.70000000e+01, 4.80000000e+01,\n",
              "       8.90000000e+01, 6.30000000e+01, 9.10000000e+01, 1.38000000e+02,\n",
              "       1.47000000e+02, 2.88000000e+02, 1.06000000e+02, 1.57000000e+02,\n",
              "       1.22000000e+02, 2.04000000e+02, 3.59000000e+02, 5.52000000e+02,\n",
              "       3.50000000e+02, 9.50000000e+01, 1.28000000e+02, 8.70000000e+01,\n",
              "       7.50000000e+01, 1.03000000e+02, 6.13000000e+02, 5.32000000e+02,\n",
              "       9.90000000e+01, 2.92000000e+02, 5.56000000e+02, 2.91000000e+02,\n",
              "       5.40000000e+01, 8.00000000e+01, 6.50000000e+01, 7.60000000e+01,\n",
              "       7.20000000e+01, 4.00000000e+01, 7.80000000e+01, 6.60000000e+01,\n",
              "       8.80000000e+01, 3.44000000e+02, 3.69000000e+02, 1.34000000e+02,\n",
              "       2.53000000e+02, 9.80000000e+01, 1.40000000e+02, 1.42000000e+02,\n",
              "       1.43000000e+02, 1.33000000e+02, 2.55000000e+02, 1.90000000e+02,\n",
              "       1.62000000e+02, 1.39000000e+02, 1.07000000e+02, 8.30000000e+01,\n",
              "       1.31000000e+02, 1.76000000e+02, 1.65000000e+02, 1.70000000e+02,\n",
              "       2.06000000e+02, 8.20000000e+01, 1.14000000e+02, 2.18000000e+02,\n",
              "       6.90000000e+01, 1.21000000e+02, 6.00000000e+01, 6.70000000e+01,\n",
              "       2.34000000e+02, 2.84000000e+02, 4.88000000e+02, 5.04000000e+02,\n",
              "       1.50000000e+02, 1.79000000e+02, 1.74000000e+02, 1.63000000e+02,\n",
              "       1.95000000e+02, 3.73000000e+02, 3.26000000e+02, 3.75000000e+02,\n",
              "       1.13000000e+02, 1.78000000e+02, 1.37000000e+02, 1.72000000e+02,\n",
              "       1.89000000e+02, 4.18000000e+02, 1.18000000e+02, 1.36000000e+02,\n",
              "       1.26000000e+02, 1.51000000e+02, 1.92000000e+02, 1.02000000e+02,\n",
              "       9.70000000e+01, 1.98000000e+02, 1.44000000e+02, 1.04000000e+02,\n",
              "       1.66000000e+02, 3.19000000e+02, 1.58000000e+02, 2.54000000e+02,\n",
              "       3.21000000e+02, 9.99000000e+02, 2.63600000e+03, 1.17000000e+02,\n",
              "       9.00000000e+01, 1.48000000e+02, 1.52000000e+02, 2.49000000e+02,\n",
              "       1.15000000e+02, 1.25000000e+02, 3.22000000e+02, 2.82000000e+02,\n",
              "       4.10000000e+02, 1.45000000e+02, 4.48000000e+02, 7.94000000e+02,\n",
              "       7.28000000e+02, 2.14000000e+02, 2.68000000e+02, 2.78000000e+02,\n",
              "       1.68000000e+02, 1.22200000e+03, 1.40900000e+03, 1.23300000e+03,\n",
              "       1.67400000e+03, 9.20000000e+01, 1.00000000e+02, 1.55000000e+02,\n",
              "       8.30000000e+02, 2.23000000e+02, 1.71500000e+03, 4.66000000e+02,\n",
              "       1.30200000e+03, 1.60700000e+03, 7.16000000e+02, 1.15000000e+03,\n",
              "       1.53000000e+02, 1.60000000e+02, 2.03000000e+02, 2.35000000e+02,\n",
              "       2.46000000e+02, 2.21000000e+02, 3.64000000e+02, 3.61000000e+02,\n",
              "       3.10000000e+02, 4.49000000e+02, 4.69000000e+02, 1.49000000e+02,\n",
              "       3.07000000e+02, 2.48000000e+02, 1.88000000e+02, 2.61000000e+02,\n",
              "       2.32000000e+02, 5.72000000e+02, 7.26000000e+02, 5.29000000e+02,\n",
              "       8.01000000e+02, 3.14000000e+02, 3.04000000e+02, 7.00000000e+00,\n",
              "       1.23000000e+02, 2.59000000e+02, 1.37900000e+03, 1.26300000e+03,\n",
              "       1.21000000e+03, 5.41000000e+02, 5.26000000e+02, 2.29600000e+03,\n",
              "       1.49200000e+03, 9.05000000e+02, 1.81000000e+02, 3.15200000e+03,\n",
              "       8.28000000e+02, 2.78900000e+03, 5.97000000e+02, 2.38000000e+02,\n",
              "       1.01000000e+02, 6.55000000e+02, 1.83000000e+02, 2.07000000e+02,\n",
              "       1.59000000e+02, 1.56000000e+02, 1.97000000e+02, 3.89000000e+02,\n",
              "       4.04000000e+02, 3.33000000e+02, 4.03000000e+02, 3.82000000e+02,\n",
              "       1.87000000e+02, 1.46000000e+02, 3.79000000e+02, 7.05000000e+02,\n",
              "       1.32000000e+02, 1.86000000e+02, 5.05000000e+02, 5.53000000e+02,\n",
              "       6.02000000e+02, 6.98000000e+02, 6.47000000e+02, 6.65000000e+02,\n",
              "       9.06000000e+02, 2.52100000e+03, 6.89000000e+02, 1.41000000e+02,\n",
              "       2.42000000e+02, 6.29000000e+02, 3.88000000e+02, 2.86000000e+02,\n",
              "       4.62000000e+02, 3.03000000e+02, 1.71000000e+02, 3.25000000e+02,\n",
              "       2.09000000e+02, 1.27000000e+02, 2.15000000e+02, 1.69000000e+02,\n",
              "       2.29000000e+02, 1.80000000e+02, 2.73000000e+02, 4.65000000e+02,\n",
              "       2.54700000e+03, 2.76400000e+03, 3.02000000e+02, 4.92000000e+02,\n",
              "       1.99000000e+02, 1.75000000e+02, 2.72000000e+02, 7.85000000e+02,\n",
              "       1.29000000e+02, 2.38400000e+03, 2.62100000e+03, 2.73500000e+03,\n",
              "       7.37000000e+02, 6.59000000e+02, 3.68000000e+02, 3.74000000e+02,\n",
              "       6.53000000e+02, 4.16000000e+02, 8.47000000e+02, 8.79000000e+02,\n",
              "       8.67000000e+02, 1.77000000e+02, 2.20000000e+02, 4.89000000e+02,\n",
              "       7.55000000e+02, 7.68000000e+02, 7.93000000e+02, 1.61000000e+02,\n",
              "       2.63000000e+02, 2.28000000e+02, 1.93000000e+02, 1.67000000e+02,\n",
              "       3.06000000e+02, 3.20000000e+02, 2.85000000e+02, 1.54000000e+02,\n",
              "       1.05000000e+03, 3.34000000e+02, 6.64000000e+02, 5.19000000e+02,\n",
              "       1.27400000e+03, 4.78000000e+02, 2.96000000e+02, 2.13000000e+02,\n",
              "       2.19000000e+02, 3.08000000e+02, 4.86000000e+02, 2.67000000e+02,\n",
              "       3.29000000e+02, 4.71000000e+02, 3.00000000e+02, 2.99000000e+02,\n",
              "       2.22000000e+02, 2.69000000e+02, 2.45000000e+02, 2.47000000e+02,\n",
              "       2.12000000e+02, 2.43000000e+02, 9.09000000e+02, 4.39000000e+02,\n",
              "       1.18300000e+03, 3.51000000e+02, 4.52000000e+02, 3.60000000e+02,\n",
              "       2.37000000e+02, 3.43000000e+02, 3.90000000e+02, 9.78000000e+02,\n",
              "       2.80000000e+02, 2.83000000e+02, 3.94000000e+02, 3.97000000e+02,\n",
              "       1.01300000e+03, 1.91000000e+02, 5.84000000e+02, 7.42000000e+02,\n",
              "       6.87000000e+02, 1.13600000e+03, 1.42100000e+03, 8.14000000e+02,\n",
              "       1.24300000e+03, 1.57100000e+03, 1.85200000e+03, 6.25000000e+02,\n",
              "       3.96000000e+02, 6.00000000e+00, 1.85000000e+02, 2.71000000e+02,\n",
              "       2.40000000e+02, 2.33000000e+02, 2.31000000e+02, 5.58000000e+02,\n",
              "       3.78000000e+02, 6.49000000e+02, 4.44000000e+02, 3.45000000e+02,\n",
              "       3.81000000e+02, 2.25000000e+02, 3.32000000e+02, 3.01000000e+02,\n",
              "       6.21000000e+02, 5.20000000e+02, 6.99000000e+02, 5.79000000e+02,\n",
              "       6.22000000e+02, 2.16000000e+02, 2.65000000e+02, 2.76000000e+02,\n",
              "       1.86400000e+03, 2.81000000e+02, 6.81000000e+02, 1.33300000e+03,\n",
              "       2.01600000e+03, 1.04300000e+03, 2.56000000e+02, 9.36000000e+02,\n",
              "       1.20500000e+03, 4.09000000e+02, 1.04500000e+03, 3.58000000e+02,\n",
              "       5.40000000e+02, 6.90000000e+02, 2.52000000e+02, 2.90000000e+02,\n",
              "       3.56000000e+02, 2.77000000e+02, 4.72000000e+02, 3.65000000e+02,\n",
              "       5.51000000e+02, 7.99000000e+02, 4.28000000e+02, 4.58000000e+02,\n",
              "       2.57000000e+02, 5.65000000e+02, 2.36000000e+02, 3.86000000e+02,\n",
              "       4.07000000e+02, 4.37000000e+02, 5.18000000e+02, 6.38000000e+02,\n",
              "       2.00000000e+02, 4.75000000e+02, 8.00000000e+00, 3.05000000e+02,\n",
              "       3.36000000e+02, 2.89000000e+02, 3.48000000e+02, 1.63400000e+03,\n",
              "       1.62400000e+03, 1.46400000e+03, 1.46100000e+03, 4.23000000e+02,\n",
              "       1.18500000e+03, 7.80000000e+02, 6.68000000e+02, 1.58600000e+03,\n",
              "       1.88400000e+03, 2.27600000e+03, 2.07500000e+03, 2.77500000e+03,\n",
              "       1.80000000e+03, 6.48000000e+02, 3.16000000e+02, 2.95000000e+02,\n",
              "       3.31000000e+02, 1.04200000e+03, 5.08000000e+02, 1.96000000e+02,\n",
              "       2.39000000e+02, 4.68000000e+02, 7.38000000e+02, 4.30000000e+02,\n",
              "       4.14000000e+02, 7.25000000e+02, 1.22600000e+03, 1.05800000e+03,\n",
              "       2.41000000e+02, 4.83000000e+02, 3.95000000e+02, 1.25100000e+03,\n",
              "       1.49500000e+03, 1.75500000e+03, 1.99100000e+03, 1.87500000e+03,\n",
              "       1.74400000e+03, 1.95200000e+03, 1.88300000e+03, 1.07000000e+03,\n",
              "       1.35400000e+03, 3.46000000e+02, 2.64000000e+02, 8.04000000e+02,\n",
              "       7.04000000e+02, 6.44000000e+02, 8.63000000e+02, 1.21300000e+03,\n",
              "       1.86000000e+03, 2.28600000e+03, 1.90900000e+03, 1.99500000e+03,\n",
              "       5.55000000e+02, 5.69000000e+02, 6.60000000e+02, 4.01000000e+02,\n",
              "       6.63000000e+02, 8.80000000e+02, 5.76000000e+02, 3.76000000e+02,\n",
              "       1.08900000e+03, 5.85000000e+02, 5.67000000e+02, 3.55000000e+02,\n",
              "       3.11000000e+02, 3.13000000e+02, 6.45000000e+02, 1.07100000e+03,\n",
              "       1.30000000e+03, 1.94200000e+03, 2.17000000e+02, 3.99000000e+02,\n",
              "       7.54000000e+02, 9.07000000e+02, 1.09500000e+03, 1.61900000e+03,\n",
              "       2.74000000e+02, 5.74000000e+02, 5.11000000e+02, 2.24000000e+02,\n",
              "       8.49000000e+02, 1.43800000e+03, 1.60600000e+03, 5.24000000e+02,\n",
              "       3.37000000e+02, 4.24000000e+02, 2.97000000e+02, 3.84000000e+02,\n",
              "       2.10300000e+03, 1.00200000e+03, 4.00000000e+02, 1.80900000e+03,\n",
              "       1.96100000e+03, 5.81000000e+02, 3.27000000e+02, 3.91000000e+02,\n",
              "       4.53000000e+02, 3.52000000e+02, 7.32000000e+02, 4.35000000e+02,\n",
              "       7.76000000e+02, 8.87000000e+02, 4.36000000e+02, 4.73000000e+02,\n",
              "       7.14000000e+02, 4.31000000e+02, 7.83000000e+02, 7.86000000e+02,\n",
              "       1.01600000e+03, 6.07000000e+02, 7.47000000e+02, 5.00000000e+02,\n",
              "       8.21000000e+02, 5.10000000e+02, 2.07400000e+03, 1.60200000e+03,\n",
              "       1.84900000e+03, 2.23400000e+03, 6.86000000e+02, 6.52000000e+02,\n",
              "       3.49000000e+02, 3.53000000e+02, 3.42000000e+02, 7.78000000e+02,\n",
              "       5.07000000e+02, 1.25200000e+03, 1.23500000e+03, 1.06400000e+03,\n",
              "       9.00000000e+00, 7.23000000e+02, 7.64000000e+02, 5.28000000e+02,\n",
              "       5.59000000e+02, 4.56000000e+02, 3.62000000e+02, 5.27000000e+02,\n",
              "       4.47000000e+02, 7.09000000e+02, 5.36000000e+02, 5.49000000e+02,\n",
              "       1.82600000e+03, 4.67000000e+02, 3.54000000e+02, 7.63000000e+02,\n",
              "       5.31000000e+02, 5.96000000e+02, 3.72000000e+02, 4.57000000e+02,\n",
              "       3.15000000e+02, 8.37000000e+02, 6.34000000e+02, 7.72000000e+02,\n",
              "       5.12000000e+02, 4.85000000e+02, 4.15000000e+02, 7.36000000e+02,\n",
              "       7.11000000e+02, 1.32800000e+03, 7.73000000e+02, 3.09000000e+02,\n",
              "       7.62000000e+02, 7.21000000e+02, 8.16000000e+02, 9.81000000e+02,\n",
              "       6.80000000e+02, 6.82000000e+02, 3.12000000e+02, 5.78000000e+02,\n",
              "       7.48000000e+02, 6.31000000e+02, 1.50000000e+03, 1.29300000e+03,\n",
              "       3.71000000e+02, 8.10000000e+02, 1.04800000e+03, 4.84000000e+02,\n",
              "       1.35900000e+03, 5.93000000e+02, 3.38000000e+02, 3.24000000e+02,\n",
              "       3.57000000e+02, 3.67000000e+02, 8.99000000e+02, 4.94000000e+02,\n",
              "       8.84000000e+02, 4.80000000e+02, 4.29000000e+02, 6.08000000e+02,\n",
              "       9.50000000e+02, 9.62000000e+02, 9.21000000e+02, 8.25000000e+02,\n",
              "       9.59000000e+02, 5.91000000e+02, 6.04000000e+02, 4.46000000e+02,\n",
              "       4.41000000e+02, 5.82000000e+02, 1.47200000e+03, 1.07700000e+03,\n",
              "       5.94000000e+02])"
            ]
          },
          "metadata": {
            "tags": []
          },
          "execution_count": 22
        }
      ]
    },
    {
      "cell_type": "code",
      "metadata": {
        "id": "pNw2hEljn9xU",
        "colab_type": "code",
        "colab": {
          "base_uri": "https://localhost:8080/",
          "height": 1000
        },
        "outputId": "705e20db-9819-49e1-d644-9f1e9f200cf6"
      },
      "source": [
        "df.chromium.unique()            #Now working same as above we did with cobalt column"
      ],
      "execution_count": 23,
      "outputs": [
        {
          "output_type": "execute_result",
          "data": {
            "text/plain": [
              "array([91, 129, 32, 58, 28, 39, 62, 110, 70, '<10', 12, 19, 15, 16,\n",
              "       '26.11.2012 03.12.2012', 20, 102, 103, 90, 85,\n",
              "       '05.11.2012 12.11.2012', 79, 99, 114, 124, 125, 44, 36, 27, 57, 49,\n",
              "       35, 53, 77, 22, 18, 29, 46, 38, 42, 17, 54, 81, 82, 68, 52, 51, 93,\n",
              "       55, 33, 69, 34, 59, 115, 56, 25, 67, 11, 45, 13, 78, 127, 138, 84,\n",
              "       89, 64, 74, 63, 23, 41, 88, 176, 40, 169, 140, 24, 30, 685, 26, 31,\n",
              "       73, 92, 135, 76, 86, 47, 61, 50, 291, 502, 412, 43, 65, 21, 14, 75,\n",
              "       100, 260, 80, 60, 66, 171, 196, 396, 530, 156, 180, 203, 219, 119,\n",
              "       816, '21.11.2012 28.11.2012', 94, 151, 113, 48,\n",
              "       '23.11.2012 04.12.2012', 206, 37, 161, 155, 152, 10, 107, 292, 327,\n",
              "       438, 353, '08.10.2012 11.10.2012', 95, 83, 71, 478, 350, 104,\n",
              "       '30.11.2012 04.12.2012', 87, 72, 397, 425, 279, 288,\n",
              "       '01.11.2012 06.11.2012', 105, 128, 145, 121, 101,\n",
              "       '19.11.2012 27.11.2012', 217, 117, 130, 'RTHR (LTHR poly)', 1426,\n",
              "       111, 139, 148, 122, 144, 163, 222, 204, 98,\n",
              "       '25.10.2012 02.11.2012', '22.11.2012 28.11.2012', 108, 320, 227,\n",
              "       112, 143, 527, 202, 158, 116, 1806, 109, 383, 123, 126, 584, 540,\n",
              "       132, 97, 184, 'Bi lat BHR', 675, 763, 692, 703, 131, 106, 571, 674,\n",
              "       512, 823, 1327, 342, 254, '23.11.2012 28.11.2012',\n",
              "       '28.11.2012 03.12.2012', 157, 280, 308, 'Bi Lat THR C/P', 205, 162,\n",
              "       118, 146, '06.11.2012 12.11.2012', 181, 149, 96, 167, 141, 142,\n",
              "       179, 207, 210, 147, 166, '03.10.2012 04.10.2012', 133, 154, 183,\n",
              "       186, 782, 710, 750, 463, 515, 1052, 744, 556,\n",
              "       '20.11.2012 27.11.2012', 153, 'LTHR Syn Mod', 935, 382, 211, 743,\n",
              "       509, 255, 220, 316, 232, 159, 170, 850, 9, 134,\n",
              "       'LTHR C/P mod (LTHR poly)', 212, 182, 209, 240, 261, 256, 235, 475,\n",
              "       416, 454, 606, 367, 160, 451, 926, 271, 239, 178, 194, 215,\n",
              "       '09.11.2012 14.11.2012', 192, 275, 230, 400, 216, 120,\n",
              "       '26.11.2012 28.11.2012', 137, '20.09.2012 27.09.2012', 295, 259,\n",
              "       329, 283, 168, 361, 201, 284, 348, 1129, 1603, 352, 246, 231,\n",
              "       '28.09.2012 03.10.2012', 364, 1437, 2134, 2190, 717, 488, 380, 289,\n",
              "       253, 229, 337, 267, 200, 324, 136, 245, 369, 190,\n",
              "       '15.10.2012 17.10.2012', '02.10.2012 04.10.2012',\n",
              "       '26.10.2012 06.11.2012', '19.09.2012 27.09.2012', 322, 407, 538,\n",
              "       813, 172, 165, 188, 452, 411, 388, 688, '14.11.2012 26.11.2012',\n",
              "       '26.09.2012 03.10.2012', '16.10.2012 22.10.2012', 618,\n",
              "       '07.11.2012 14.11.2012', 477, 226, 679, 'RTHR C/P', 445, 187, 175,\n",
              "       268, 185, 189, 249, 237, 318, 208, 911, 221, 479, 449, 570, 667,\n",
              "       520, 722, 766, '>770', 831, 436, 354, 299, 440, 346, 195,\n",
              "       '02.11.2012 06.11.2012', 197, 193, 379, 718, 435, 677, 522, 294,\n",
              "       482, 443, 422, 467, 642, 358, 623, 251, 286, 338, 164, 150,\n",
              "       '13.11.2012 26.11.2012', 437, 778, 277, 273, 177, 'LTHR Amoda',\n",
              "       213, '14.11.2012 27.11.2012', 224, '08.11.2012 14.11.2012', 'LBHR',\n",
              "       '15.11.2012 26.11.2012', 'LTHR C/P', 321, 608, 764, 535, 628, 765,\n",
              "       610, 638, 720, 863, 829, 741, 301, 612, '19.10.2012 24.10.2012',\n",
              "       552, 607, 517, 262, 303, 199, '30.10.2012 06.11.2012',\n",
              "       '15.10.2012 22.10.2012', 'RTHR Amoda', 514, 243, 'BI Lat BHR', 736,\n",
              "       920, 1436, 837, 1238, 918, 1126, 1195, 962, 921, 586, 753, 330,\n",
              "       264, 263, 234, 247, 214, 305, 233, 228, 559, 513, 503, 413, 611,\n",
              "       999, 1147, 787, 705, 616, 376, 347, 371, 393,\n",
              "       '29.11.2012 03.12.2012', 'Bi Lat BHR', '24.10.2012 02.11.2012',\n",
              "       'RTHR Syn Mod (LDHS )', 297, 218, 803, '23.11.2012 03.12.2012',\n",
              "       '29.11.2012 04.12.2012', 335, 524, 265, 490, 800, 1608, 266, 1130,\n",
              "       '28.10.2012 06.11.2012', 405, 476, 403, 426, 542, 636, 173, 198,\n",
              "       439, 340, 826, 933, 296, 1146, 923, 236, 726, 818, 278, 345, 464,\n",
              "       315, 500, 244, 282, 596, 'LTHR Syn Mod RBHR', 258, 650, 665, 309,\n",
              "       484, 252, '26.10.2012 02.11.2012', 1537, 238, 1174, 1097, 1215,\n",
              "       341, 375, 363, 174, 250, '24.09.2012 28.09.2012', 1222, 656, 319,\n",
              "       450, 518, 395, 307, 537, 704, 276, 391, 491, 349, 328, 269, 344,\n",
              "       331, 351, 312, '07.09.2012 19.09.2012', 446, 332, 313, 406, 356,\n",
              "       684, 998, '09.10.2012 11.10.2012', 495, 553, 529, 770, 1082, 455,\n",
              "       '22.11.2012 04.12.2012', 298, 281, 875, 890, 365, 191, 505, 302,\n",
              "       '19.11.2012 03.12.2012', '29.10.2012 06.11.2012', 619, 564, 370,\n",
              "       410, 714, 'R Adept resurfacing', 334, 326, 333, 377, 506, 649, 415,\n",
              "       661, 336, 493, 'RBHR (Revised L THR)', 'RBHR', 385, 539, 453, 360,\n",
              "       432, 468, 597, 317, 310, 968], dtype=object)"
            ]
          },
          "metadata": {
            "tags": []
          },
          "execution_count": 23
        }
      ]
    },
    {
      "cell_type": "code",
      "metadata": {
        "id": "Ih8avi1xqYoY",
        "colab_type": "code",
        "colab": {}
      },
      "source": [
        "\n",
        "# Replacing string values with some small values \n",
        "df['chromium']=df.chromium.replace({'RBHR (Revised L THR)':0.010,'RBHR':0.011,'R Adept resurfacing':0.012,\n",
        "                                    'LTHR Syn Mod RBHR':0.013,'RTHR Amoda':0.014,\n",
        "                                    'BI Lat BHR':0.015,'THR C/P':0.016,'LBHR':0.017,\n",
        "                                    'LTHR Amoda':0.018,'RTHR C/P':0.019,'LTHR C/P mod (LTHR poly)':0.020,\n",
        "                                    'LTHR Syn Mod':0.021,'Bi Lat THR C/P':0.022,'Bi lat BHR':0.023,\n",
        "                                    'RTHR (LTHR poly)':0.024,'LTHR C/P':0.025,\n",
        "                                    'RTHR Syn Mod (LDHS )':0.026,'Bi Lat BHR':0.027})\n",
        "\n"
      ],
      "execution_count": 24,
      "outputs": []
    },
    {
      "cell_type": "code",
      "metadata": {
        "id": "pLtx9mgG00Fq",
        "colab_type": "code",
        "colab": {}
      },
      "source": [
        "# Same for dates we are replacing with small values\n",
        "df['chromium']=df.chromium.replace({'29.10.2012 06.11.2012':0.0001,'19.11.2012 03.12.2012':0.0002,'22.11.2012 04.12.2012':0.0003,\n",
        "                                '09.10.2012 11.10.2012':0.0004,'07.09.2012 19.09.2012':0.0005,\n",
        "                                '24.09.2012 28.09.2012':0.0006,'26.10.2012 02.11.2012':0.0007,\n",
        "                                '28.10.2012 06.11.2012':0.0008,'29.11.2012 04.12.2012':0.0009,\n",
        "                                '24.10.2012 02.11.2012':0.00010,'23.11.2012 03.12.2012':0.00011,\n",
        "                                '29.11.2012 03.12.2012':0.00012,'15.10.2012 22.10.2012':0.00013,\n",
        "                                '30.10.2012 06.11.2012':0.00014,'19.10.2012 24.10.2012':0.00015,\n",
        "                                '15.11.2012 26.11.2012':0.00016,'14.11.2012 27.11.2012':0.00017,\n",
        "                                '08.11.2012 14.11.2012':0.00017,'13.11.2012 26.11.2012':0.00018,'07.11.2012 14.11.2012':0.00019,'26.09.2012 03.10.2012':0.00020,\n",
        "                                '16.10.2012 22.10.2012':0.00021,'26.10.2012 06.11.2012':0.00022,'19.09.2012 27.09.2012':0.00023,'15.10.2012 17.10.2012':0.00024,\n",
        "                                '26.11.2012 03.12.2012':0.00025,'05.11.2012 12.11.2012':0.00026,'21.11.2012 28.11.2012':0.00027,'23.11.2012 04.12.2012':0.00028,\n",
        "                                '08.10.2012 11.10.2012':0.00029,\n",
        "                                '30.11.2012 04.12.2012':0.00030,'01.11.2012 06.11.2012':0.00031,'19.11.2012 27.11.2012':0.00032,'25.10.2012 02.11.2012':0.00033,\n",
        "                                '22.11.2012 28.11.2012':0.00034,'23.11.2012 28.11.2012':0.00035,\n",
        "                                '28.11.2012 03.12.2012':0.00036,'06.11.2012 12.11.2012':0.00037,\n",
        "                               '06.11.2012 12.11.2012':0.00038,\n",
        "                               '03.10.2012 04.10.2012':0.00039,\n",
        "                               '20.11.2012 27.11.2012':0.00040,\n",
        "                               '09.11.2012 14.11.2012':0.00041,\n",
        "                               '26.11.2012 28.11.2012':0.00042,\n",
        "                               '20.09.2012 27.09.2012':0.00043,\n",
        "                               '28.09.2012 03.10.2012':0.00044,\n",
        "                               '02.10.2012 04.10.2012':0.00045,\n",
        "                               '14.11.2012 26.11.2012':0.00046,\n",
        "                               '02.11.2012 06.11.2012':0.00047,\n",
        "                               '<10':0.100,\n",
        "                               '>770':0.770\n",
        "                               })"
      ],
      "execution_count": 25,
      "outputs": []
    },
    {
      "cell_type": "code",
      "metadata": {
        "id": "Yu3P-M1EMI6X",
        "colab_type": "code",
        "colab": {
          "base_uri": "https://localhost:8080/",
          "height": 202
        },
        "outputId": "76903460-f3a9-4804-e1d7-ed61cd8e30a1"
      },
      "source": [
        "\n",
        "df.chromium = df.chromium.astype(float)\n",
        "ch_value=df.chromium.mean()   # Calculating mean of chromium column\n",
        "\n",
        "df['chromium']=df.chromium.replace({0.010:ch_value,0.011:ch_value,0.012:ch_value,\n",
        "                                    0.013:ch_value,0.014:ch_value,\n",
        "                                    0.015:ch_value,0.016:ch_value,0.017:ch_value,\n",
        "                                    0.018:ch_value,0.019:ch_value,0.020:ch_value,\n",
        "                                    0.021:ch_value,0.022:ch_value,0.023:ch_value,\n",
        "                                    0.024:ch_value,0.025:ch_value,\n",
        "                                    0.026:ch_value,0.027:ch_value})\n",
        "\n",
        "\n",
        "# Now replacing values with mean value of a column\n",
        "\n",
        "df['chromium']=df.chromium.replace({0.0001:ch_value,0.0002:ch_value,0.0003:ch_value,\n",
        "                                0.0004:ch_value,0.0005:ch_value,\n",
        "                                0.0006:ch_value,0.0007:ch_value,\n",
        "                                0.0008:ch_value,0.0009:ch_value,\n",
        "                                0.00010:ch_value,0.00011:ch_value,\n",
        "                                0.00012:ch_value,0.00013:ch_value,\n",
        "                                0.00014:ch_value,0.00015:ch_value,\n",
        "                                0.00016:ch_value,0.00017:ch_value,\n",
        "                                0.00017:ch_value,0.00018:ch_value,0.00019:ch_value,0.00020:ch_value,\n",
        "                                0.00021:ch_value,0.00022:ch_value,0.00023:ch_value,0.00024:ch_value,\n",
        "                                0.00025:ch_value,0.00026:ch_value,0.00027:ch_value,0.00028:ch_value,\n",
        "                                0.00029:ch_value,\n",
        "                                0.00030:ch_value,0.00031:ch_value,0.00032:ch_value,0.00033:ch_value,\n",
        "                                0.00034:ch_value,0.00035:ch_value,\n",
        "                               0.00036:ch_value,0.00037:ch_value,\n",
        "                               0.00038:ch_value,\n",
        "                               0.00039:ch_value,\n",
        "                               0.00040:ch_value,\n",
        "                               0.00041:ch_value,\n",
        "                               0.00042:ch_value,\n",
        "                               0.00043:ch_value,\n",
        "                               0.00044:ch_value,\n",
        "                               0.00045:ch_value,\n",
        "                               0.00046:ch_value,\n",
        "                               0.00047:ch_value,\n",
        "                               0.100:np.random.randint(1,9),\n",
        "                               0.770:np.random.randint(770,800)\n",
        "                               })\n",
        "\n",
        "\n",
        "df['chromium'].head(10)"
      ],
      "execution_count": 26,
      "outputs": [
        {
          "output_type": "execute_result",
          "data": {
            "text/plain": [
              "0     91.0\n",
              "1     91.0\n",
              "2    129.0\n",
              "3     32.0\n",
              "4     58.0\n",
              "5     28.0\n",
              "6     39.0\n",
              "7     62.0\n",
              "8    110.0\n",
              "9     70.0\n",
              "Name: chromium, dtype: float64"
            ]
          },
          "metadata": {
            "tags": []
          },
          "execution_count": 26
        }
      ]
    },
    {
      "cell_type": "code",
      "metadata": {
        "id": "i1ZKuEE_8ZY9",
        "colab_type": "code",
        "colab": {
          "base_uri": "https://localhost:8080/",
          "height": 284
        },
        "outputId": "063e699b-71a8-4285-a824-c1bb1b7b2765"
      },
      "source": [
        "df.describe()     #After cleaning mixed data now we have summary of cobalt,chromium and Age"
      ],
      "execution_count": 27,
      "outputs": [
        {
          "output_type": "execute_result",
          "data": {
            "text/html": [
              "<div>\n",
              "<style scoped>\n",
              "    .dataframe tbody tr th:only-of-type {\n",
              "        vertical-align: middle;\n",
              "    }\n",
              "\n",
              "    .dataframe tbody tr th {\n",
              "        vertical-align: top;\n",
              "    }\n",
              "\n",
              "    .dataframe thead th {\n",
              "        text-align: right;\n",
              "    }\n",
              "</style>\n",
              "<table border=\"1\" class=\"dataframe\">\n",
              "  <thead>\n",
              "    <tr style=\"text-align: right;\">\n",
              "      <th></th>\n",
              "      <th>Age</th>\n",
              "      <th>cobalt</th>\n",
              "      <th>chromium</th>\n",
              "    </tr>\n",
              "  </thead>\n",
              "  <tbody>\n",
              "    <tr>\n",
              "      <th>count</th>\n",
              "      <td>11795.000000</td>\n",
              "      <td>11795.000000</td>\n",
              "      <td>11795.000000</td>\n",
              "    </tr>\n",
              "    <tr>\n",
              "      <th>mean</th>\n",
              "      <td>67.915981</td>\n",
              "      <td>94.154070</td>\n",
              "      <td>69.254950</td>\n",
              "    </tr>\n",
              "    <tr>\n",
              "      <th>std</th>\n",
              "      <td>11.761225</td>\n",
              "      <td>183.865335</td>\n",
              "      <td>107.845965</td>\n",
              "    </tr>\n",
              "    <tr>\n",
              "      <th>min</th>\n",
              "      <td>7.000000</td>\n",
              "      <td>1.000000</td>\n",
              "      <td>4.000000</td>\n",
              "    </tr>\n",
              "    <tr>\n",
              "      <th>25%</th>\n",
              "      <td>61.000000</td>\n",
              "      <td>23.000000</td>\n",
              "      <td>26.000000</td>\n",
              "    </tr>\n",
              "    <tr>\n",
              "      <th>50%</th>\n",
              "      <td>70.000000</td>\n",
              "      <td>49.000000</td>\n",
              "      <td>42.000000</td>\n",
              "    </tr>\n",
              "    <tr>\n",
              "      <th>75%</th>\n",
              "      <td>76.000000</td>\n",
              "      <td>85.216829</td>\n",
              "      <td>70.000000</td>\n",
              "    </tr>\n",
              "    <tr>\n",
              "      <th>max</th>\n",
              "      <td>114.000000</td>\n",
              "      <td>3152.000000</td>\n",
              "      <td>2190.000000</td>\n",
              "    </tr>\n",
              "  </tbody>\n",
              "</table>\n",
              "</div>"
            ],
            "text/plain": [
              "                Age        cobalt      chromium\n",
              "count  11795.000000  11795.000000  11795.000000\n",
              "mean      67.915981     94.154070     69.254950\n",
              "std       11.761225    183.865335    107.845965\n",
              "min        7.000000      1.000000      4.000000\n",
              "25%       61.000000     23.000000     26.000000\n",
              "50%       70.000000     49.000000     42.000000\n",
              "75%       76.000000     85.216829     70.000000\n",
              "max      114.000000   3152.000000   2190.000000"
            ]
          },
          "metadata": {
            "tags": []
          },
          "execution_count": 27
        }
      ]
    },
    {
      "cell_type": "code",
      "metadata": {
        "id": "1PEvE7nw-9ny",
        "colab_type": "code",
        "colab": {}
      },
      "source": [
        "#removing unncessary column\n",
        "df=df.drop(['Surgey_Undertaken_no','appointments','appointments_1','Surgey_Undertaken_yes',\n",
        "            'Surgey_Undertaken_armd','Surgey_Undertaken_ps'],axis=1)"
      ],
      "execution_count": 28,
      "outputs": []
    },
    {
      "cell_type": "code",
      "metadata": {
        "id": "lDTb7LeS6JvD",
        "colab_type": "code",
        "colab": {
          "base_uri": "https://localhost:8080/",
          "height": 584
        },
        "outputId": "cb7aee41-8026-4edb-f0da-73ec5ef9f74f"
      },
      "source": [
        "sns.pairplot(df)"
      ],
      "execution_count": 29,
      "outputs": [
        {
          "output_type": "execute_result",
          "data": {
            "text/plain": [
              "<seaborn.axisgrid.PairGrid at 0x7f23a4b9f748>"
            ]
          },
          "metadata": {
            "tags": []
          },
          "execution_count": 29
        },
        {
          "output_type": "display_data",
          "data": {
            "image/png": "[encoded data removed]",
            "text/plain": [
              "<Figure size 540x540 with 12 Axes>"
            ]
          },
          "metadata": {
            "tags": []
          }
        }
      ]
    },
    {
      "cell_type": "code",
      "metadata": {
        "id": "aVml1CAERI5I",
        "colab_type": "code",
        "colab": {
          "base_uri": "https://localhost:8080/",
          "height": 252
        },
        "outputId": "e5f603f1-b83c-42c0-f422-62241ebab6b2"
      },
      "source": [
        "# Present Column\n",
        "df.to_csv('Clean_data.csv')\n",
        "df.head"
      ],
      "execution_count": 30,
      "outputs": [
        {
          "output_type": "execute_result",
          "data": {
            "text/plain": [
              "<bound method NDFrame.head of        Gender  Age  cobalt  chromium Hip_replacement Surgey_Undertaken\n",
              "0      Female   66    74.0      91.0            rbhr                no\n",
              "1      Female   71   111.0      91.0            rbhr                no\n",
              "2      Female   29   119.0     129.0            rbhr                no\n",
              "3        Male   40    86.0      32.0            rthr                no\n",
              "4        Male   87   105.0      58.0            rthr                no\n",
              "...       ...  ...     ...       ...             ...               ...\n",
              "12197    Male   62    15.0      31.0            lbhr                no\n",
              "12198    Male   74   252.0      83.0       surfacing      pseudotumour\n",
              "12199  Female   77    54.0      72.0       surfacing                no\n",
              "12200    Male   60    14.0      18.0            lthr                no\n",
              "12201    Male   79    25.0      58.0            rbhr                no\n",
              "\n",
              "[11795 rows x 6 columns]>"
            ]
          },
          "metadata": {
            "tags": []
          },
          "execution_count": 30
        }
      ]
    },
    {
      "cell_type": "code",
      "metadata": {
        "id": "SWFQCV6cRM7Q",
        "colab_type": "code",
        "colab": {
          "base_uri": "https://localhost:8080/",
          "height": 34
        },
        "outputId": "0e36f456-8e92-482a-c92c-478293863966"
      },
      "source": [
        "# Encoding the gender  value likes Male:0 ,Female:1 Unknown:2\n",
        "label_encoder = preprocessing.LabelEncoder()\n",
        "df['Gender'] = df.Gender.astype(str)\n",
        "\n",
        "df['Gender']= label_encoder.fit_transform(df['Gender'])\n",
        "\n",
        "\n",
        "#df['Surgey_Undertaken']= label_encoder.fit_transform(df['Surgey_Undertaken']) \n",
        "\n",
        "#Label encoding of target column\n",
        "df['Hip_replacement']=df.Hip_replacement.replace({'rbhr':1,'rthr':2,'surfacing':3,'lat':4,'lthr':5,'lbhr':6,'bhr':7,'thr':8})\n",
        "df['Surgey_Undertaken']=df.Surgey_Undertaken.replace({'no':0,'yes':1,'armd':2,'pseudotumour':3})\n",
        "\n",
        "df.Hip_replacement.unique()"
      ],
      "execution_count": 31,
      "outputs": [
        {
          "output_type": "execute_result",
          "data": {
            "text/plain": [
              "array([1, 2, 3, 4, 5, 6, 7, 8])"
            ]
          },
          "metadata": {
            "tags": []
          },
          "execution_count": 31
        }
      ]
    },
    {
      "cell_type": "code",
      "metadata": {
        "id": "xRoJlKgodCzF",
        "colab_type": "code",
        "colab": {}
      },
      "source": [
        "#seprating the data into inut and output column\n",
        "X=df[['Gender','Age','cobalt','chromium','Hip_replacement']]\n",
        "Y=df['Surgey_Undertaken']\n",
        "\n",
        "\n",
        "# Normalizing beacuse of highly features values in a dataset\n",
        "scaler = MinMaxScaler()\n",
        "X=scaler.fit_transform(X)\n",
        "\n",
        "\n",
        "# Randomly splitting the dataset into train and test\n",
        "X_train, X_test, y_train, y_test = train_test_split(X, Y, test_size=0.4, random_state=42)"
      ],
      "execution_count": 32,
      "outputs": []
    },
    {
      "cell_type": "code",
      "metadata": {
        "id": "1SVw4gzbdS5a",
        "colab_type": "code",
        "colab": {
          "base_uri": "https://localhost:8080/",
          "height": 50
        },
        "outputId": "e2ff4782-36e0-42d5-dcbd-2aeca6869482"
      },
      "source": [
        "#Size of both dataset with target column\n",
        "print(\"Traning data\",X_train.shape, y_train.shape)\n",
        "\n",
        "print(\"Testing data\",X_test.shape, y_test.shape)\n"
      ],
      "execution_count": 33,
      "outputs": [
        {
          "output_type": "stream",
          "text": [
            "Traning data (7077, 5) (7077,)\n",
            "Testing data (4718, 5) (4718,)\n"
          ],
          "name": "stdout"
        }
      ]
    },
    {
      "cell_type": "code",
      "metadata": {
        "id": "SJNXvU7wft9v",
        "colab_type": "code",
        "colab": {}
      },
      "source": [
        "#Apply Support Vector Machine\n",
        "clf = svm.SVC(kernel='linear', C=1).fit(X_train, y_train)"
      ],
      "execution_count": 34,
      "outputs": []
    },
    {
      "cell_type": "code",
      "metadata": {
        "id": "nEWhRAgpf8_t",
        "colab_type": "code",
        "colab": {
          "base_uri": "https://localhost:8080/",
          "height": 34
        },
        "outputId": "af1420e7-d1d7-4c2d-931b-5e573d22980b"
      },
      "source": [
        "#Score on Test data on SVM\n",
        "clf.score(X_test, y_test)"
      ],
      "execution_count": 35,
      "outputs": [
        {
          "output_type": "execute_result",
          "data": {
            "text/plain": [
              "0.6827045358202628"
            ]
          },
          "metadata": {
            "tags": []
          },
          "execution_count": 35
        }
      ]
    },
    {
      "cell_type": "code",
      "metadata": {
        "id": "Z25OZitCgi-G",
        "colab_type": "code",
        "colab": {}
      },
      "source": [
        "# Naive bayes Classifier\n",
        "gnb = GaussianNB()\n",
        "y_pred = gnb.fit(X_train, y_train)\n",
        "y_pred=y_pred.predict(X_test)"
      ],
      "execution_count": 36,
      "outputs": []
    },
    {
      "cell_type": "code",
      "metadata": {
        "id": "xGUVPHdHhIbZ",
        "colab_type": "code",
        "colab": {
          "base_uri": "https://localhost:8080/",
          "height": 34
        },
        "outputId": "aba0cd8b-c490-494c-84c1-6877d48c7a19"
      },
      "source": [
        "# Score on Naive bayes\n",
        "accuracy_score(y_test, y_pred)"
      ],
      "execution_count": 37,
      "outputs": [
        {
          "output_type": "execute_result",
          "data": {
            "text/plain": [
              "0.6899109792284867"
            ]
          },
          "metadata": {
            "tags": []
          },
          "execution_count": 37
        }
      ]
    },
    {
      "cell_type": "code",
      "metadata": {
        "id": "wN98QDHIi-2Q",
        "colab_type": "code",
        "colab": {
          "base_uri": "https://localhost:8080/",
          "height": 151
        },
        "outputId": "796b103c-a5f6-472b-a62d-123b6bd2f5c5"
      },
      "source": [
        "# Random Forest CLassifier\n",
        "clf1 = RandomForestClassifier(max_depth=12, random_state=40)\n",
        "clf1.fit(X_train, y_train)"
      ],
      "execution_count": 38,
      "outputs": [
        {
          "output_type": "execute_result",
          "data": {
            "text/plain": [
              "RandomForestClassifier(bootstrap=True, ccp_alpha=0.0, class_weight=None,\n",
              "                       criterion='gini', max_depth=12, max_features='auto',\n",
              "                       max_leaf_nodes=None, max_samples=None,\n",
              "                       min_impurity_decrease=0.0, min_impurity_split=None,\n",
              "                       min_samples_leaf=1, min_samples_split=2,\n",
              "                       min_weight_fraction_leaf=0.0, n_estimators=100,\n",
              "                       n_jobs=None, oob_score=False, random_state=40, verbose=0,\n",
              "                       warm_start=False)"
            ]
          },
          "metadata": {
            "tags": []
          },
          "execution_count": 38
        }
      ]
    },
    {
      "cell_type": "code",
      "metadata": {
        "id": "NMqELfcjjlvp",
        "colab_type": "code",
        "colab": {
          "base_uri": "https://localhost:8080/",
          "height": 34
        },
        "outputId": "4bfb2838-1020-4d36-97ba-0fa167ae1fc3"
      },
      "source": [
        "# Score on random forest classifier\n",
        "y_pred1=clf1.predict(X_test)\n",
        "accuracy_score(y_test, y_pred1)"
      ],
      "execution_count": 39,
      "outputs": [
        {
          "output_type": "execute_result",
          "data": {
            "text/plain": [
              "0.7155574395930479"
            ]
          },
          "metadata": {
            "tags": []
          },
          "execution_count": 39
        }
      ]
    },
    {
      "cell_type": "code",
      "metadata": {
        "id": "WW8z-NfEjmZ0",
        "colab_type": "code",
        "colab": {}
      },
      "source": [
        "# Decition Tree Classifier\n",
        "clf2 = tree.DecisionTreeClassifier()\n",
        "clf2 = clf2.fit(X_train, y_train)"
      ],
      "execution_count": 40,
      "outputs": []
    },
    {
      "cell_type": "code",
      "metadata": {
        "id": "MDqU3o5FlpQe",
        "colab_type": "code",
        "colab": {
          "base_uri": "https://localhost:8080/",
          "height": 34
        },
        "outputId": "5ad6d62a-6297-48be-d13e-824aee3fc186"
      },
      "source": [
        "# Score on Decion_tree\n",
        "y_pred2=clf2.predict(X_test)\n",
        "accuracy_score(y_test, y_pred2)"
      ],
      "execution_count": 41,
      "outputs": [
        {
          "output_type": "execute_result",
          "data": {
            "text/plain": [
              "0.5735481136074608"
            ]
          },
          "metadata": {
            "tags": []
          },
          "execution_count": 41
        }
      ]
    },
    {
      "cell_type": "code",
      "metadata": {
        "id": "Ztw3mWaz65G4",
        "colab_type": "code",
        "colab": {
          "base_uri": "https://localhost:8080/",
          "height": 34
        },
        "outputId": "be6a451a-82a1-45ca-f7e1-bc9c2c0def1c"
      },
      "source": [
        "lg=LogisticRegression()\n",
        "lg=lg.fit(X_train,y_train)\n",
        "y_predlg=lg.predict(X_test)\n",
        "accuracy_score(y_test, y_predlg)"
      ],
      "execution_count": 42,
      "outputs": [
        {
          "output_type": "execute_result",
          "data": {
            "text/plain": [
              "0.6871555743959304"
            ]
          },
          "metadata": {
            "tags": []
          },
          "execution_count": 42
        }
      ]
    },
    {
      "cell_type": "code",
      "metadata": {
        "id": "vf6uLSOumJlI",
        "colab_type": "code",
        "colab": {}
      },
      "source": [
        "#Comparison of Algorithms with respect accuracy\n",
        "models = []\n",
        "models.append(('Logistic', LogisticRegression()))\n",
        "models.append(('Random_forest',RandomForestClassifier()))\n",
        "models.append(('KNN', KNeighborsClassifier()))\n",
        "models.append(('Decision', DecisionTreeClassifier()))\n",
        "models.append(('Naive', GaussianNB()))\n",
        "models.append(('MLP',MLPClassifier(hidden_layer_sizes=(40,40,40), max_iter=1000)))\n",
        "models.append(('SVM', SVC()))"
      ],
      "execution_count": 43,
      "outputs": []
    },
    {
      "cell_type": "code",
      "metadata": {
        "id": "S82EhVJ3wa7R",
        "colab_type": "code",
        "colab": {
          "base_uri": "https://localhost:8080/",
          "height": 1000
        },
        "outputId": "65552e3f-9411-4ef1-aa64-6a55efed4543"
      },
      "source": [
        "results = []\n",
        "names = []\n",
        "scoring = 'accuracy'\n",
        "for name, model in models:\n",
        "\tkfold = model_selection.KFold(n_splits=10, random_state=42)\n",
        "\tcv_results = model_selection.cross_val_score(model, X, Y, cv=kfold, scoring=scoring)\n",
        "\tresults.append(cv_results)\n",
        "\tnames.append(name)\n",
        "\tmsg = \"%s: %f (%f)\" % (name, cv_results.mean(), cv_results.std())\n",
        "\tprint(msg)"
      ],
      "execution_count": 44,
      "outputs": [
        {
          "output_type": "stream",
          "text": [
            "/usr/local/lib/python3.6/dist-packages/sklearn/model_selection/_split.py:296: FutureWarning: Setting a random_state has no effect since shuffle is False. This will raise an error in 0.24. You should leave random_state to its default (None), or set shuffle=True.\n",
            "  FutureWarning\n",
            "/usr/local/lib/python3.6/dist-packages/sklearn/linear_model/_logistic.py:940: ConvergenceWarning: lbfgs failed to converge (status=1):\n",
            "STOP: TOTAL NO. of ITERATIONS REACHED LIMIT.\n",
            "\n",
            "Increase the number of iterations (max_iter) or scale the data as shown in:\n",
            "    https://scikit-learn.org/stable/modules/preprocessing.html\n",
            "Please also refer to the documentation for alternative solver options:\n",
            "    https://scikit-learn.org/stable/modules/linear_model.html#logistic-regression\n",
            "  extra_warning_msg=_LOGISTIC_SOLVER_CONVERGENCE_MSG)\n",
            "/usr/local/lib/python3.6/dist-packages/sklearn/linear_model/_logistic.py:940: ConvergenceWarning: lbfgs failed to converge (status=1):\n",
            "STOP: TOTAL NO. of ITERATIONS REACHED LIMIT.\n",
            "\n",
            "Increase the number of iterations (max_iter) or scale the data as shown in:\n",
            "    https://scikit-learn.org/stable/modules/preprocessing.html\n",
            "Please also refer to the documentation for alternative solver options:\n",
            "    https://scikit-learn.org/stable/modules/linear_model.html#logistic-regression\n",
            "  extra_warning_msg=_LOGISTIC_SOLVER_CONVERGENCE_MSG)\n",
            "/usr/local/lib/python3.6/dist-packages/sklearn/linear_model/_logistic.py:940: ConvergenceWarning: lbfgs failed to converge (status=1):\n",
            "STOP: TOTAL NO. of ITERATIONS REACHED LIMIT.\n",
            "\n",
            "Increase the number of iterations (max_iter) or scale the data as shown in:\n",
            "    https://scikit-learn.org/stable/modules/preprocessing.html\n",
            "Please also refer to the documentation for alternative solver options:\n",
            "    https://scikit-learn.org/stable/modules/linear_model.html#logistic-regression\n",
            "  extra_warning_msg=_LOGISTIC_SOLVER_CONVERGENCE_MSG)\n",
            "/usr/local/lib/python3.6/dist-packages/sklearn/linear_model/_logistic.py:940: ConvergenceWarning: lbfgs failed to converge (status=1):\n",
            "STOP: TOTAL NO. of ITERATIONS REACHED LIMIT.\n",
            "\n",
            "Increase the number of iterations (max_iter) or scale the data as shown in:\n",
            "    https://scikit-learn.org/stable/modules/preprocessing.html\n",
            "Please also refer to the documentation for alternative solver options:\n",
            "    https://scikit-learn.org/stable/modules/linear_model.html#logistic-regression\n",
            "  extra_warning_msg=_LOGISTIC_SOLVER_CONVERGENCE_MSG)\n",
            "/usr/local/lib/python3.6/dist-packages/sklearn/linear_model/_logistic.py:940: ConvergenceWarning: lbfgs failed to converge (status=1):\n",
            "STOP: TOTAL NO. of ITERATIONS REACHED LIMIT.\n",
            "\n",
            "Increase the number of iterations (max_iter) or scale the data as shown in:\n",
            "    https://scikit-learn.org/stable/modules/preprocessing.html\n",
            "Please also refer to the documentation for alternative solver options:\n",
            "    https://scikit-learn.org/stable/modules/linear_model.html#logistic-regression\n",
            "  extra_warning_msg=_LOGISTIC_SOLVER_CONVERGENCE_MSG)\n",
            "/usr/local/lib/python3.6/dist-packages/sklearn/linear_model/_logistic.py:940: ConvergenceWarning: lbfgs failed to converge (status=1):\n",
            "STOP: TOTAL NO. of ITERATIONS REACHED LIMIT.\n",
            "\n",
            "Increase the number of iterations (max_iter) or scale the data as shown in:\n",
            "    https://scikit-learn.org/stable/modules/preprocessing.html\n",
            "Please also refer to the documentation for alternative solver options:\n",
            "    https://scikit-learn.org/stable/modules/linear_model.html#logistic-regression\n",
            "  extra_warning_msg=_LOGISTIC_SOLVER_CONVERGENCE_MSG)\n",
            "/usr/local/lib/python3.6/dist-packages/sklearn/linear_model/_logistic.py:940: ConvergenceWarning: lbfgs failed to converge (status=1):\n",
            "STOP: TOTAL NO. of ITERATIONS REACHED LIMIT.\n",
            "\n",
            "Increase the number of iterations (max_iter) or scale the data as shown in:\n",
            "    https://scikit-learn.org/stable/modules/preprocessing.html\n",
            "Please also refer to the documentation for alternative solver options:\n",
            "    https://scikit-learn.org/stable/modules/linear_model.html#logistic-regression\n",
            "  extra_warning_msg=_LOGISTIC_SOLVER_CONVERGENCE_MSG)\n",
            "/usr/local/lib/python3.6/dist-packages/sklearn/model_selection/_split.py:296: FutureWarning: Setting a random_state has no effect since shuffle is False. This will raise an error in 0.24. You should leave random_state to its default (None), or set shuffle=True.\n",
            "  FutureWarning\n"
          ],
          "name": "stderr"
        },
        {
          "output_type": "stream",
          "text": [
            "Logistic: 0.677662 (0.017013)\n",
            "Random_forest: 0.684783 (0.013020)\n"
          ],
          "name": "stdout"
        },
        {
          "output_type": "stream",
          "text": [
            "/usr/local/lib/python3.6/dist-packages/sklearn/model_selection/_split.py:296: FutureWarning: Setting a random_state has no effect since shuffle is False. This will raise an error in 0.24. You should leave random_state to its default (None), or set shuffle=True.\n",
            "  FutureWarning\n"
          ],
          "name": "stderr"
        },
        {
          "output_type": "stream",
          "text": [
            "KNN: 0.674526 (0.017988)\n"
          ],
          "name": "stdout"
        },
        {
          "output_type": "stream",
          "text": [
            "/usr/local/lib/python3.6/dist-packages/sklearn/model_selection/_split.py:296: FutureWarning: Setting a random_state has no effect since shuffle is False. This will raise an error in 0.24. You should leave random_state to its default (None), or set shuffle=True.\n",
            "  FutureWarning\n"
          ],
          "name": "stderr"
        },
        {
          "output_type": "stream",
          "text": [
            "Decision: 0.556001 (0.017791)\n",
            "Naive: 0.680206 (0.016244)\n"
          ],
          "name": "stdout"
        },
        {
          "output_type": "stream",
          "text": [
            "/usr/local/lib/python3.6/dist-packages/sklearn/model_selection/_split.py:296: FutureWarning: Setting a random_state has no effect since shuffle is False. This will raise an error in 0.24. You should leave random_state to its default (None), or set shuffle=True.\n",
            "  FutureWarning\n",
            "/usr/local/lib/python3.6/dist-packages/sklearn/model_selection/_split.py:296: FutureWarning: Setting a random_state has no effect since shuffle is False. This will raise an error in 0.24. You should leave random_state to its default (None), or set shuffle=True.\n",
            "  FutureWarning\n"
          ],
          "name": "stderr"
        },
        {
          "output_type": "stream",
          "text": [
            "MLP: 0.700382 (0.015356)\n"
          ],
          "name": "stdout"
        },
        {
          "output_type": "stream",
          "text": [
            "/usr/local/lib/python3.6/dist-packages/sklearn/model_selection/_split.py:296: FutureWarning: Setting a random_state has no effect since shuffle is False. This will raise an error in 0.24. You should leave random_state to its default (None), or set shuffle=True.\n",
            "  FutureWarning\n"
          ],
          "name": "stderr"
        },
        {
          "output_type": "stream",
          "text": [
            "SVM: 0.673169 (0.019646)\n"
          ],
          "name": "stdout"
        }
      ]
    },
    {
      "cell_type": "code",
      "metadata": {
        "id": "QeWML1Bm4PVK",
        "colab_type": "code",
        "colab": {
          "base_uri": "https://localhost:8080/",
          "height": 544
        },
        "outputId": "ffd7d4bf-69a7-456b-e766-4b720edacc6a"
      },
      "source": [
        "# boxplot algorithm comparison\n",
        "import matplotlib.pyplot as plt\n",
        "fig = plt.figure(figsize=(10,8))\n",
        "fig.suptitle('Algorithm Comparison with Accuracy')\n",
        "ax = fig.add_subplot(111)\n",
        "plt.boxplot(results)\n",
        "ax.set_xticklabels(names)\n",
        "plt.show()\n"
      ],
      "execution_count": 45,
      "outputs": [
        {
          "output_type": "display_data",
          "data": {
            "image/png": "[encoded data removed]",
            "text/plain": [
              "<Figure size 720x576 with 1 Axes>"
            ]
          },
          "metadata": {
            "tags": []
          }
        }
      ]
    },
    {
      "cell_type": "code",
      "metadata": {
        "id": "LqsdI8VLeYNQ",
        "colab_type": "code",
        "colab": {}
      },
      "source": [
        "mlp = MLPClassifier(hidden_layer_sizes=(40,40,40), max_iter=1000)\n",
        "mlp_algo=mlp.fit(X_train, y_train.values.ravel())"
      ],
      "execution_count": 46,
      "outputs": []
    },
    {
      "cell_type": "code",
      "metadata": {
        "id": "IT-NUu-8efDG",
        "colab_type": "code",
        "colab": {}
      },
      "source": [
        "mlp_pred=mlp_algo.predict(X_test)"
      ],
      "execution_count": 47,
      "outputs": []
    },
    {
      "cell_type": "code",
      "metadata": {
        "id": "avceYmcBfAId",
        "colab_type": "code",
        "colab": {
          "base_uri": "https://localhost:8080/",
          "height": 34
        },
        "outputId": "8222d6bc-3812-42a1-d553-3f1737f1e9a7"
      },
      "source": [
        "accuracy_score(y_test,mlp_pred)"
      ],
      "execution_count": 48,
      "outputs": [
        {
          "output_type": "execute_result",
          "data": {
            "text/plain": [
              "0.708774904620602"
            ]
          },
          "metadata": {
            "tags": []
          },
          "execution_count": 48
        }
      ]
    },
    {
      "cell_type": "code",
      "metadata": {
        "id": "e6-ZwoL3h-MF",
        "colab_type": "code",
        "colab": {}
      },
      "source": [
        "import pickle\n",
        "pickle.dump(mlp_algo, open('model.pkl','wb'))"
      ],
      "execution_count": 49,
      "outputs": []
    },
    {
      "cell_type": "code",
      "metadata": {
        "id": "WDvyM1dJAt1O",
        "colab_type": "code",
        "colab": {}
      },
      "source": [
        "data=mlp_algo.predict([[1,0.55,0.006,0.01,0.42]])"
      ],
      "execution_count": 50,
      "outputs": []
    },
    {
      "cell_type": "code",
      "metadata": {
        "id": "bDeiXh0bNc2C",
        "colab_type": "code",
        "colab": {
          "base_uri": "https://localhost:8080/",
          "height": 34
        },
        "outputId": "2d761384-29b0-48e6-febf-4adaef5b4498"
      },
      "source": [
        "data"
      ],
      "execution_count": 51,
      "outputs": [
        {
          "output_type": "execute_result",
          "data": {
            "text/plain": [
              "array([0])"
            ]
          },
          "metadata": {
            "tags": []
          },
          "execution_count": 51
        }
      ]
    },
    {
      "cell_type": "code",
      "metadata": {
        "id": "79IyypxO9bew",
        "colab_type": "code",
        "colab": {
          "base_uri": "https://localhost:8080/",
          "height": 134
        },
        "outputId": "2eb64517-5651-4b82-b861-88b4e0399f12"
      },
      "source": [
        "print(X_test)\n"
      ],
      "execution_count": 52,
      "outputs": [
        {
          "output_type": "stream",
          "text": [
            "[[0.         0.41121495 0.00698191 0.00960659 0.42857143]\n",
            " [1.         0.55140187 0.01269438 0.02012809 0.14285714]\n",
            " [0.         0.69158879 0.02348461 0.04391583 0.42857143]\n",
            " ...\n",
            " [1.         0.56074766 0.87686449 0.73147301 0.42857143]\n",
            " [0.         0.39252336 0.01110758 0.02378774 0.        ]\n",
            " [0.         0.60747664 0.08727388 0.03430924 0.        ]]\n"
          ],
          "name": "stdout"
        }
      ]
    },
    {
      "cell_type": "code",
      "metadata": {
        "id": "NY8uQwK89eho",
        "colab_type": "code",
        "colab": {}
      },
      "source": [
        ""
      ],
      "execution_count": 52,
      "outputs": []
    },
    {
      "cell_type": "code",
      "metadata": {
        "id": "zT10A_r1_yco",
        "colab_type": "code",
        "colab": {}
      },
      "source": [
        ""
      ],
      "execution_count": 52,
      "outputs": []
    }
  ]
}